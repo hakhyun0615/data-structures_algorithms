{
 "cells": [
  {
   "cell_type": "markdown",
   "metadata": {},
   "source": [
    "동적(업데이트) 프로그래밍(기록): 분할 정복시 부분 문제에 대한 중복이 있어 부분 최적 해를 기록해 이후 기록된 해를 재사용\n",
    "- 상향식(bottom-up)\n",
    "- 최적의 하위 구조 특성\n",
    "- 동일한 부분 문제 중복 특성\n",
    "- 분할 정복 → 분할 정복 + 메모 (top-down) → 동적 프로그래밍 (bottom-up)"
   ]
  },
  {
   "cell_type": "code",
   "execution_count": 2,
   "metadata": {},
   "outputs": [
    {
     "name": "stdout",
     "output_type": "stream",
     "text": [
      "5\n"
     ]
    }
   ],
   "source": [
    "# 분할 정복, O(2^N)\n",
    "def fib(n):\n",
    "    if n == 0 or n == 1:\n",
    "        return n\n",
    "    return fib(n - 1) + fib(n - 2)\n",
    "\n",
    "# 분할 정복 + 메모, O(N)\n",
    "cache = {}\n",
    "\n",
    "def fib_memoized(n):\n",
    "    if n in cache:\n",
    "        return cache[n]\n",
    "    if n == 0 or n == 1:\n",
    "        result = n\n",
    "        cache[n] = result\n",
    "        return cache[n]\n",
    "    result = fib_memoized(n - 1) + fib_memoized(n - 2)\n",
    "    cache[n] = result\n",
    "    return result\n",
    "\n",
    "# 동적 프로그래밍, O(N)\n",
    "def fib_dp(n):\n",
    "    cache = [0 for _ in range(n + 1)]  \n",
    "    cache[0] = 0  \n",
    "    cache[1] = 1  \n",
    "    for i in range(2, n + 1):\n",
    "        cache[i] = cache[i - 1] + cache[i - 2]  \n",
    "    return cache[n] "
   ]
  },
  {
   "cell_type": "code",
   "execution_count": 8,
   "metadata": {},
   "outputs": [],
   "source": [
    "M, N = 3, 4\n",
    "mat = [[1, 3, 5, 8], [4, 2, 1, 7], [4, 3, 2, 3]]\n",
    "\n",
    "def get_min(a, b):\n",
    "    return a if a < b else b\n",
    "\n",
    "# 분할 정복\n",
    "def min_cost_recursion(mat, i, j):\n",
    "    if i == 0 and j == 0:\n",
    "        return mat[0][0]\n",
    "    if i == 0:\n",
    "        return min_cost_recursion(mat, 0, j-1) + mat[0][j]\n",
    "    if j == 0:\n",
    "        return min_cost_recursion(mat, i-1, 0) + mat[i][0]\n",
    "    else:\n",
    "        a = min_cost_recursion(mat, i-1, j)\n",
    "        b = min_cost_recursion(mat, i, j-1)\n",
    "        return get_min(a, b) + mat[i][j]\n",
    "\n",
    "# 분할 정복 + 메모\n",
    "cache = [[0] * N for i in range(0, M)]\n",
    "\n",
    "def min_cost_memo(mat, i, j):\n",
    "    if cache[i][j] != 0:\n",
    "        return cache[i][j]\n",
    "    if i == 0 and j == 0:\n",
    "        cache[i][j] = mat[0][0]\n",
    "        return cache[i][j]\n",
    "    if i == 0:\n",
    "        cache[i][j] = min_cost_memo(mat, 0, j - 1) + mat[0][j]\n",
    "        return cache[i][j]\n",
    "    if j == 0:\n",
    "        cache[i][j] = min_cost_memo(mat, i - 1, 0) + mat[i][0]\n",
    "        return cache[i][j]\n",
    "    else:\n",
    "        a = min_cost_memo(mat, i - 1, j)\n",
    "        b = min_cost_memo(mat, i, j - 1)\n",
    "        cache[i][j] = get_min(a, b) + mat[i][j]\n",
    "        return cache[i][j]\n",
    "\n",
    "# 동적 프로그래밍   \n",
    "def min_cost_dp(mat, i, j):\n",
    "    cache = [[0] * N for i in range(0, M)]\n",
    "    cache[0][0] = mat[0][0]\n",
    "    for j in range(1, N):\n",
    "        cache[0][j] = cache[0][j - 1] + mat[0][j]\n",
    "    for i in range(1, M):\n",
    "        cache[i][0] = cache[i - 1][0] + mat[i][0]\n",
    "    for i in range(1, M):\n",
    "        for j in range(1, N):\n",
    "            cache[i][j] = get_min(cache[i - 1][j], cache[i][j - 1]) + mat[i][j]\n",
    "    return cache[M - 1][N - 1]"
   ]
  },
  {
   "cell_type": "code",
   "execution_count": 17,
   "metadata": {},
   "outputs": [
    {
     "name": "stdout",
     "output_type": "stream",
     "text": [
      "10\n",
      "5\n",
      "1\n",
      "3\n"
     ]
    }
   ],
   "source": [
    "def get_min(a, b):\n",
    "    return a if a < b else b\n",
    "\n",
    "def coin_change(demo, n):\n",
    "    k = len(demo)\n",
    "    cache = [[0] * (n+1) for i in range(0, k)]\n",
    "    # for i in range(0, k):\n",
    "    #     cache[i][0] = 0\n",
    "    for j in range(1, n+1): # since it's 1 won\n",
    "        cache[0][j] = j\n",
    "    for i in range(1, k):\n",
    "        for j in range(1, n+1):\n",
    "            if j < demo[i]:\n",
    "                cache[i][j] = cache[i - 1][j]\n",
    "            else:\n",
    "                cache[i][j] = get_min(cache[i - 1][j], 1 + cache[i][j - demo[i]])\n",
    "    print_coin_change(demo, cache, n)\n",
    "    return cache[k - 1][n]\n",
    "\n",
    "def print_coin_change(demo, cache, n):\n",
    "    i = len(demo) - 1\n",
    "    j = n\n",
    "    while j != 0:\n",
    "        if cache[i - 1][j] == cache[i][j] and i > 0:\n",
    "            i = i - 1\n",
    "        else:\n",
    "            print(demo[i])\n",
    "            j = j - demo[i]\n",
    "\n",
    "demo = [1, 5, 10, 12, 50, 100, 500]\n",
    "n = 16\n",
    "print(coin_change(demo, n))"
   ]
  }
 ],
 "metadata": {
  "kernelspec": {
   "display_name": "Python 3",
   "language": "python",
   "name": "python3"
  },
  "language_info": {
   "codemirror_mode": {
    "name": "ipython",
    "version": 3
   },
   "file_extension": ".py",
   "mimetype": "text/x-python",
   "name": "python",
   "nbconvert_exporter": "python",
   "pygments_lexer": "ipython3",
   "version": "3.11.4"
  }
 },
 "nbformat": 4,
 "nbformat_minor": 2
}

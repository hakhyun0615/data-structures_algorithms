{
 "cells": [
  {
   "cell_type": "markdown",
   "metadata": {},
   "source": [
    "동적(업데이트) 프로그래밍(기록): 분할 정복시 부분 문제에 대한 **중복**이 있어 부분 **최적** 해를 기록해 이후 기록된 해를 재사용\n",
    "- 상향식(bottom-up)\n",
    "- 분할 정복 + 그리디"
   ]
  },
  {
   "cell_type": "code",
   "execution_count": 2,
   "metadata": {},
   "outputs": [
    {
     "name": "stdout",
     "output_type": "stream",
     "text": [
      "5\n"
     ]
    }
   ],
   "source": [
    "# 분할 정복, O(2^N)\n",
    "def fib(n):\n",
    "    if n == 0 or n == 1:\n",
    "        return n\n",
    "    return fib(n - 1) + fib(n - 2)\n",
    "\n",
    "print(fib(5))"
   ]
  },
  {
   "cell_type": "code",
   "execution_count": 3,
   "metadata": {},
   "outputs": [
    {
     "name": "stdout",
     "output_type": "stream",
     "text": [
      "5\n"
     ]
    }
   ],
   "source": [
    "# 분할 정복 + 메모, O(N)\n",
    "cache = {}\n",
    "\n",
    "def fib_memoized(n):\n",
    "    if n in cache:\n",
    "        return cache[n]\n",
    "    if n == 0 or n == 1:\n",
    "        result = n\n",
    "        cache[n] = result\n",
    "        return cache[n]\n",
    "    result = fib_memoized(n - 1) + fib_memoized(n - 2)\n",
    "    cache[n] = result\n",
    "    return result\n",
    "\n",
    "print(fib_memoized(5))"
   ]
  },
  {
   "cell_type": "code",
   "execution_count": 4,
   "metadata": {},
   "outputs": [
    {
     "name": "stdout",
     "output_type": "stream",
     "text": [
      "5\n"
     ]
    }
   ],
   "source": [
    "# 동적 프로그래밍, O(N)\n",
    "def fib_dp(n):\n",
    "    cache = [0 for _ in range(n + 1)]  \n",
    "    cache[0] = 0  \n",
    "    cache[1] = 1  \n",
    "    for i in range(2, n + 1):\n",
    "        cache[i] = cache[i - 1] + cache[i - 2]  \n",
    "    return cache[n] \n",
    "\n",
    "print(fib_dp(5))"
   ]
  }
 ],
 "metadata": {
  "kernelspec": {
   "display_name": "Python 3",
   "language": "python",
   "name": "python3"
  },
  "language_info": {
   "codemirror_mode": {
    "name": "ipython",
    "version": 3
   },
   "file_extension": ".py",
   "mimetype": "text/x-python",
   "name": "python",
   "nbconvert_exporter": "python",
   "pygments_lexer": "ipython3",
   "version": "3.11.4"
  }
 },
 "nbformat": 4,
 "nbformat_minor": 2
}

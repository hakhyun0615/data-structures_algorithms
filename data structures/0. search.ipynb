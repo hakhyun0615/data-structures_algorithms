{
 "cells": [
  {
   "cell_type": "markdown",
   "metadata": {},
   "source": [
    "선형검색: 정렬되지 않은 리스트에서 검색 키와 동일한 키 값 검색, **O(N)**"
   ]
  },
  {
   "cell_type": "code",
   "execution_count": 2,
   "metadata": {},
   "outputs": [
    {
     "name": "stdout",
     "output_type": "stream",
     "text": [
      "Not Found.\n"
     ]
    }
   ],
   "source": [
    "# lst: list, n: list size, x: search key\n",
    "def linear_search(lst, n, x):\n",
    "    for i in range(n):\n",
    "        if lst[i] == x:\n",
    "            return i\n",
    "    return -1\n",
    "\n",
    "lst = [10, 7, 11, 5, 3, 8, 16, 13]\n",
    "n = len(lst)\n",
    "result = linear_search(lst, n, 30)\n",
    "if result != -1:\n",
    "    print(\"Found at index {}.\".format(result))\n",
    "else:\n",
    "    print(\"Not Found.\")"
   ]
  },
  {
   "cell_type": "markdown",
   "metadata": {},
   "source": [
    "이진검색: 정렬된 리스트에서 검색 키와 동일한 키 값 검색, **O(logN)**"
   ]
  },
  {
   "cell_type": "code",
   "execution_count": 4,
   "metadata": {},
   "outputs": [
    {
     "name": "stdout",
     "output_type": "stream",
     "text": [
      "0\n",
      "7\n",
      "11\n",
      "Found at index 13.\n"
     ]
    }
   ],
   "source": [
    "# lst: list, n: list size, x: search key\n",
    "def binary_search(lst, n, x):\n",
    "    mid = 0\n",
    "    low = 0\n",
    "    high = n-1\n",
    "    while low <= high:\n",
    "        print(mid)\n",
    "        mid = (low + high) // 2\n",
    "        if x == lst[mid]:\n",
    "            return mid\n",
    "        if x < lst[mid]:\n",
    "            high = mid - 1\n",
    "        else:\n",
    "            low = mid + 1\n",
    "    return -1\n",
    "\n",
    "lst = [1, 2, 3, 4, 5, 6, 7, 8, 9, 10, 11, 12, 13, 14, 15]\n",
    "n = len(lst)\n",
    "result = binary_search(lst, n, 14)\n",
    "if result != -1:\n",
    "    print(\"Found at index {}.\".format(result))\n",
    "else:\n",
    "    print(\"Not Found.\")"
   ]
  },
  {
   "cell_type": "code",
   "execution_count": null,
   "metadata": {},
   "outputs": [],
   "source": []
  }
 ],
 "metadata": {
  "kernelspec": {
   "display_name": "Python 3",
   "language": "python",
   "name": "python3"
  },
  "language_info": {
   "codemirror_mode": {
    "name": "ipython",
    "version": 3
   },
   "file_extension": ".py",
   "mimetype": "text/x-python",
   "name": "python",
   "nbconvert_exporter": "python",
   "pygments_lexer": "ipython3",
   "version": "3.11.4"
  }
 },
 "nbformat": 4,
 "nbformat_minor": 2
}

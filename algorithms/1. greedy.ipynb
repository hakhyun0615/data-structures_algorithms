{
 "cells": [
  {
   "cell_type": "markdown",
   "metadata": {},
   "source": [
    "그리디: 매번 최적의 부분 해 선택\n",
    "- 최대/최소 ~를 구할 때 많이 사용\n",
    "- 항상 최적인 해를 도출할 수 없음\n",
    "- 설계 과정\n",
    "    1. 선정 과정: 최적이라 생각되는 부분 해 선택\n",
    "    2. 적정성 점검: 선택한 부분 해를 해 집합에 포함시키는 것이 적절한지 확인 후 포함\n",
    "    3. 해답 점검(종료조건): 선정 과정과 적정성 점검을 반복하면서 새로운 해 집합이 최종 해인지 확인"
   ]
  },
  {
   "cell_type": "code",
   "execution_count": 1,
   "metadata": {},
   "outputs": [
    {
     "name": "stdout",
     "output_type": "stream",
     "text": [
      "10 5 1 "
     ]
    }
   ],
   "source": [
    "def coin_change(x):\n",
    "    d = [1, 5, 10, 50, 100, 500]\n",
    "    result = []\n",
    "    i = len(d) - 1 # index\n",
    "    while True:\n",
    "        while x >= d[i]:\n",
    "            x = x - d[i]\n",
    "            result.append(d[i])\n",
    "        i -= 1\n",
    "        if i < 0:\n",
    "            break\n",
    "    for i in range(len(result)):\n",
    "        print(result[i], end=\" \")\n",
    "\n",
    "x = 16\n",
    "coin_change(x)"
   ]
  },
  {
   "cell_type": "markdown",
   "metadata": {},
   "source": [
    "신장 트리: 싸이클이 없는 무방향,가중치,연결 그래프\n",
    "- 정점: N\n",
    "- 간선: N-1 (싸이클 X)\n",
    "\n",
    "최소 신장 트리: 가중치 합이 최소인 신장 트리\n",
    "- (최소이므로) 그리디 알고리즘으로 찾음\n",
    "    - Prim 알고리즘\n",
    "    - Kruskal 알고리즘"
   ]
  },
  {
   "cell_type": "markdown",
   "metadata": {},
   "source": [
    "서로소 집합\n",
    "- 논리적: 트리\n",
    "- 물리적: 파이썬 리스트\n",
    "    - 크기: 노드 수\n",
    "    - 인덱스: 노드\n",
    "    - 값: 루트/부모\n",
    "        - 각 집합의 대표값: 루트\n",
    "- 연산: find & union\n",
    "    - find: 대표값/루트 반환\n",
    "        - 경로 압축을 통해 더 빠른 수행 가능\n",
    "    - union: 합집합\n",
    "\n",
    "Kruskal 알고리즘: 신장 트리의 간선(E)를 기반으로 동작, **O(NlogN) ~ O(N^2logN)**\n",
    "1. 선정 과정: 가중치 기준 오름차순 정렬 후(**O(MlogM)**) 가중치가 가장 작은 신장 트리의 간선 선택\n",
    "2. 적정성 검사: 정점의 서로소 집합 생성 후(**O(N)**) 두 정점이 다른 집합이면(싸이클을 만들지 않으면)  union 후 최소 신장 트리의 간선에 추가(**O(MlogM)**)\n",
    "3. 해답 점검: 정점들이 하나의 집합이 될 때(최소 신장 트리의 간선이 N-1개이면) 종료"
   ]
  },
  {
   "cell_type": "code",
   "execution_count": 2,
   "metadata": {},
   "outputs": [
    {
     "name": "stdout",
     "output_type": "stream",
     "text": [
      "최소신장트리: [(4, 6), (2, 5), (1, 6), (3, 5), (5, 6), (0, 1)]\n",
      "최소신장트리 가중치: 25\n"
     ]
    }
   ],
   "source": [
    "weights = [\n",
    "    (0, 1, 9), (0, 2, 10), (1, 3, 10), (1, 4, 5),\n",
    "    (1, 6, 3), (2, 3, 9), (2, 4, 7), (2, 5, 2),\n",
    "    (3, 5, 4), (3, 6, 8), (4, 6, 1), (5, 6, 6)\n",
    "] # (v1, v2, weight)\n",
    "weights.sort(key=lambda t: t[2]) # ascending\n",
    "\n",
    "mst = [] # edges\n",
    "N = 7 # number of vertexes\n",
    "p = []\n",
    "\n",
    "for i in range(N):\n",
    "    p.append(i)\n",
    "\n",
    "def find(u): # u: node\n",
    "    if u != p[u]: # p: disjoint sets/python list\n",
    "        p[u] = find(p[u]) # return find(p[u])\n",
    "    return p[u]\n",
    "\n",
    "def union(u, v):\n",
    "    root1 = find(u)\n",
    "    root2 = find(v)\n",
    "    p[root2] = root1\n",
    "\n",
    "tree_edges = 0\n",
    "mst_cost = 0\n",
    "\n",
    "while True:\n",
    "    if tree_edges == N - 1: # if mst\n",
    "        break\n",
    "    u, v, wt = weights.pop(0)\n",
    "    if find(u) != find(v): # if different set\n",
    "        union(u, v)\n",
    "        mst.append((u, v))\n",
    "        mst_cost += wt\n",
    "        tree_edges += 1\n",
    "\n",
    "print('최소신장트리: ', end='')\n",
    "print(mst)\n",
    "print('최소신장트리 가중치:', mst_cost)"
   ]
  },
  {
   "cell_type": "markdown",
   "metadata": {},
   "source": [
    "Prim 알고리즘: 신장 트리의 정점(V)를 기반으로 동작, **O(N^2)**\n",
    "1. 선정 과정: 임의의 시작 정점 선택 후 최소 신장 트리에 포함되지 않은 dist가 최소인(가중치가 가장 작은) 정점을 찾아 최소 신장 트리에 정점 추가 후 dist 갱신\n",
    "2. 적정성 검사: X\n",
    "3. 해답 점검: 최소 신장 트리의 정점 수가 N개일 때 종료"
   ]
  },
  {
   "cell_type": "code",
   "execution_count": null,
   "metadata": {},
   "outputs": [],
   "source": [
    "import sys\n",
    "\n",
    "N = 7 # number of vertexes\n",
    "s = 0 # start vertex\n",
    "g = [None for x in range(N)] # adjacency list\n",
    "g[0] = [(1, 9), (2, 10)]\n",
    "g[1] = [(0, 9), (3, 10), (4, 5), (6, 3)]\n",
    "g[2] = [(0, 10), (3, 9), (4, 7), (5, 2)]\n",
    "g[3] = [(1, 10), (2, 9), (5, 4), (6, 8)]\n",
    "g[4] = [(1, 5), (2, 7), (6, 1)]\n",
    "g[5] = [(2, 2), (3, 4), (6, 6)]\n",
    "g[6] = [(1, 3), (3, 8), (4, 1), (5, 6)]\n",
    "\n",
    "visited = [False for x in range(N)]\n",
    "dist = [sys.maxsize for x in range(N)]\n",
    "dist[s] = 0\n",
    "previous = [None for x in range(N)]\n",
    "previous[s] = s\n",
    "\n",
    "for v in range(N):\n",
    "    u = -1\n",
    "    mindist = sys.maxsize\n",
    "    for i in range(N):\n",
    "        if not visited[i] and dist[i] < mindist:\n",
    "            mindist = dist[i]\n",
    "            u = i\n",
    "    visited[u] = True\n",
    "    for w, wt in g[u]:\n",
    "        if not visited[w]:\n",
    "            if wt < dist[w]:\n",
    "                dist[w] = wt\n",
    "                previous[w] = u\n",
    "\n",
    "print('최소신장트리: ', end='')\n",
    "mst_cost = 0\n",
    "for i in range(1, N):\n",
    "    print('(%d, %d)' % (i, previous[i]), end='')\n",
    "    mst_cost += dist[i]\n",
    "print('\\n최소신장트리 가중치:', mst_cost)"
   ]
  }
 ],
 "metadata": {
  "kernelspec": {
   "display_name": "Python 3",
   "language": "python",
   "name": "python3"
  },
  "language_info": {
   "codemirror_mode": {
    "name": "ipython",
    "version": 3
   },
   "file_extension": ".py",
   "mimetype": "text/x-python",
   "name": "python",
   "nbconvert_exporter": "python",
   "pygments_lexer": "ipython3",
   "version": "3.11.4"
  }
 },
 "nbformat": 4,
 "nbformat_minor": 2
}

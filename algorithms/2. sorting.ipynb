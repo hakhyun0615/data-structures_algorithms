{
 "cells": [
  {
   "cell_type": "markdown",
   "metadata": {},
   "source": [
    "선택 정렬: 정렬된 부분의 우측 원소와 정렬되지 않은 부분의 최소 원소를 교환, **O(N<sup>2</sup>)**"
   ]
  },
  {
   "cell_type": "code",
   "execution_count": 8,
   "metadata": {},
   "outputs": [
    {
     "name": "stdout",
     "output_type": "stream",
     "text": [
      "정렬 전: [40, 70, 60, 30, 10, 50]\n",
      "정렬 후: [10, 30, 40, 50, 60, 70]\n"
     ]
    }
   ],
   "source": [
    "def selection_sort(items):\n",
    "    for i in range(0, len(items)-1): # sorted before i\n",
    "        minimum = i\n",
    "        for j in range(i+1, len(items)): # unsorted after i\n",
    "            if items[minimum] > items[j]:\n",
    "                minimum = j\n",
    "        items[i], items[minimum] = items[minimum], items[i]\n",
    "\n",
    "items = [40, 70, 60, 30, 10, 50]\n",
    "print('정렬 전: ', end='')\n",
    "print(items)\n",
    "selection_sort(items)\n",
    "print('정렬 후: ', end='')\n",
    "print(items)"
   ]
  },
  {
   "cell_type": "markdown",
   "metadata": {},
   "source": [
    "삽입 정렬: 첫 원소는 정렬되었다 가정하고 정렬된 부분에 정렬된 부분의 우측 원소(정렬되지 않은 부분의 왼쪽 원소)를 삽입, **O(N)(정렬) ~ O(N<sup>2</sup>)(역정렬/평균)**"
   ]
  },
  {
   "cell_type": "code",
   "execution_count": 1,
   "metadata": {},
   "outputs": [
    {
     "name": "stdout",
     "output_type": "stream",
     "text": [
      "정렬 전: [40, 70, 60, 30, 10, 50]\n",
      "정렬 후: [10, 30, 40, 50, 60, 70]\n"
     ]
    }
   ],
   "source": [
    "def insertion_sort(items):\n",
    "    for i in range(1, len(items)): # insert i when sorted before i (assume the first element is sorted)\n",
    "        for j in range(i, 0, -1): \n",
    "            if items[j - 1] > items[j]: \n",
    "                items[j], items[j - 1] = items[j - 1], items[j]\n",
    "            else:\n",
    "                break \n",
    "\n",
    "items = [40, 70, 60, 30, 10, 50]\n",
    "print('정렬 전: ', end='')\n",
    "print(items)\n",
    "insertion_sort(items)\n",
    "print('정렬 후: ', end='')\n",
    "print(items)"
   ]
  },
  {
   "cell_type": "markdown",
   "metadata": {},
   "source": [
    "셸 정렬: h를 줄여가며(÷2<sup>n</sup>) h-정렬(전처리) 후 삽입 정렬(1-정렬), **O(N<sup>2</sup>)**\n",
    "- h-정렬: 간격 h인 원소들로 논리적인 서브 리스트들을 구성한 뒤 각각 삽입 정렬\n",
    "- 삽입 정렬이 거의 정렬이 되어있는 경우 성능이 좋아지는 것에서 고안된 정렬"
   ]
  },
  {
   "cell_type": "code",
   "execution_count": 4,
   "metadata": {},
   "outputs": [
    {
     "name": "stdout",
     "output_type": "stream",
     "text": [
      "정렬 전: [39, 23, 15, 47, 11, 56, 61, 16, 12, 19, 21, 41]\n",
      "(6)-정렬 결과:  [39, 16, 12, 19, 11, 41, 61, 23, 15, 47, 21, 56]\n",
      "(3)-정렬 결과:  [19, 11, 12, 39, 16, 15, 47, 21, 41, 61, 23, 56]\n",
      "정렬 후: [19, 11, 12, 39, 16, 15, 47, 21, 41, 61, 23, 56]\n"
     ]
    }
   ],
   "source": [
    "def shell_sort(items):\n",
    "    h = len(items)//2\n",
    "    while h > 1:\n",
    "        for i in range(h, len(items)):\n",
    "            j = i\n",
    "            while j >= h and items[j - h] > items[j]:\n",
    "                items[j], items[j - h] = items[j - h], items[j]\n",
    "                j -= h\n",
    "        print(\"({})-정렬 결과: \".format(h), items)\n",
    "        h //= 2\n",
    "\n",
    "items = [39, 23, 15, 47, 11, 56, 61, 16, 12, 19, 21, 41]\n",
    "print('정렬 전: ', end='')\n",
    "print(items)\n",
    "shell_sort(items)\n",
    "print('정렬 후: ', end='')\n",
    "print(items)"
   ]
  },
  {
   "cell_type": "markdown",
   "metadata": {},
   "source": [
    "힙 정렬: 힙 사이즈가 1일 때까지 반복 {루트 노드와 마지막 노드 교환 → 힙 사이즈 1 감소 → downheap}, **O(NlogN)**\n",
    "- 오름차순 정렬: max 힙\n",
    "- 내림차순 정렬: min 힙"
   ]
  },
  {
   "cell_type": "code",
   "execution_count": 6,
   "metadata": {},
   "outputs": [
    {
     "name": "stdout",
     "output_type": "stream",
     "text": [
      "정렬 전: [39, 23, 15, 47, 11, 56, 61, 12, 19, 21, 41]\n",
      "최대힙: [61, 47, 56, 23, 41, 39, 15, 12, 19, 21, 11]\n",
      "정렬 후: [11, 12, 15, 19, 21, 23, 39, 41, 47, 56, 61]\n"
     ]
    }
   ],
   "source": [
    "def downheap(i, size):\n",
    "    while 2*i + 1 < size:\n",
    "        k = 2*i + 1\n",
    "        if k+1 < size and items[k] < items[k+1]:\n",
    "            k += 1\n",
    "        if items[i] >= items[k]:\n",
    "            break\n",
    "        items[i], items[k] = items[k], items[i]\n",
    "        i = k\n",
    "\n",
    "def heapify(items):\n",
    "    hsize = len(items)\n",
    "    for i in range(hsize//2 - 1, -1, -1):\n",
    "        downheap(i, hsize)\n",
    "\n",
    "def heap_sort(items):\n",
    "    N = len(items)\n",
    "    while N > 1:\n",
    "        items[0], items[N-1] = items[N-1], items[0]\n",
    "        downheap(0, N-2)\n",
    "        N -= 1\n",
    "\n",
    "items = [39, 23, 15, 47, 11, 56, 61, 12, 19, 21, 41]\n",
    "print(\"정렬 전:\", items)\n",
    "heapify(items) # make heap\n",
    "print(\"최대힙:\", items)\n",
    "heap_sort(items)\n",
    "print(\"정렬 후:\", items)"
   ]
  },
  {
   "cell_type": "markdown",
   "metadata": {},
   "source": [
    "분할 정복: 분할 + 정복 + (통합)\n",
    "- 하향식(top-down)\n",
    "- 최적의 하위 구조 특성\n",
    "- 분할: 부분 문제들로 분할\n",
    "- 정복: 부분 문제들의 부분 해를 찾기\n",
    "- (통합): 부분 해들을 통합"
   ]
  },
  {
   "cell_type": "markdown",
   "metadata": {},
   "source": [
    "합병 정렬, **O(NlogN)**\n",
    "- 분할: L[low,mid], L[mid+1,high]\n",
    "- 정복: 각각 사이즈가 1이 될 때까지 재귀적으로 분할\n",
    "- 통합: 서브 리스트를 합병"
   ]
  },
  {
   "cell_type": "code",
   "execution_count": 2,
   "metadata": {},
   "outputs": [
    {
     "name": "stdout",
     "output_type": "stream",
     "text": [
      "정렬 전:\t[54, 88, 77, 26, 93, 17, 49, 10, 17, 77, 11, 31, 22, 44, 17, 20]\n",
      "정렬 후:\t[10, 11, 17, 17, 17, 20, 22, 26, 31, 44, 49, 54, 77, 77, 88, 93]\n"
     ]
    }
   ],
   "source": [
    "def merge(lst, temp, low, mid, high):\n",
    "    i = low\n",
    "    j = mid + 1\n",
    "    for k in range(low, high + 1):\n",
    "        if i > mid:\n",
    "            temp[k] = lst[j]\n",
    "            j += 1\n",
    "        elif j > high:\n",
    "            temp[k] = lst[i]\n",
    "            i += 1\n",
    "        elif lst[i] > lst[j]:\n",
    "            temp[k] = lst[j]\n",
    "            j += 1\n",
    "        else:\n",
    "            temp[k] = lst[i]\n",
    "            i += 1\n",
    "    for k in range(low, high + 1):\n",
    "        lst[k] = temp[k]\n",
    "\n",
    "def merge_sort(lst, temp, low, high):\n",
    "    if high <= low: \n",
    "        return None\n",
    "    mid = low + (high - low) // 2 # divide\n",
    "    merge_sort(lst, temp, low, mid) # conquer\n",
    "    merge_sort(lst, temp, mid + 1, high) # conquer\n",
    "    merge(lst, temp, low, mid, high) # merge\n",
    "\n",
    "lst = [54, 88, 77, 26, 93, 17, 49, 10, 17, 77, 11, 31, 22, 44, 17, 20]\n",
    "temp = [None] * len(lst)\n",
    "print('정렬 전:\\t', end='')\n",
    "print(lst)\n",
    "merge_sort(lst, temp, 0, len(lst) - 1)\n",
    "print('정렬 후:\\t', end='')\n",
    "print(lst)"
   ]
  },
  {
   "cell_type": "markdown",
   "metadata": {},
   "source": [
    "퀵 정렬, **O(NlogN)**\n",
    "- 분할: 피벗을 기준으로 분할\n",
    "- 정복: 각각 재귀적으로 정렬"
   ]
  },
  {
   "cell_type": "code",
   "execution_count": 3,
   "metadata": {},
   "outputs": [
    {
     "name": "stdout",
     "output_type": "stream",
     "text": [
      "정렬 전:\t[10, 80, 30, 90, 40, 50, 70, 60]\n",
      "정렬 후:\t[10, 30, 40, 50, 60, 70, 80, 90]\n"
     ]
    }
   ],
   "source": [
    "def partition(lst, low, high):\n",
    "    x = lst[high]  \n",
    "    i = low       \n",
    "    for j in range(low, high):\n",
    "        if lst[j] <= x:\n",
    "            lst[i], lst[j] = lst[j], lst[i]\n",
    "            i += 1\n",
    "    lst[i], lst[high] = lst[high], lst[i]  \n",
    "    return i  \n",
    "\n",
    "def qsort(lst, low, high):\n",
    "    if low < high:\n",
    "        pi = partition(lst, low, high)\n",
    "        qsort(lst, low, pi - 1)       \n",
    "        qsort(lst, pi + 1, high)      \n",
    "\n",
    "lst = [10, 80, 30, 90, 40, 50, 70, 60]\n",
    "print('정렬 전:\\t', end='')\n",
    "print(lst)\n",
    "qsort(lst, 0, len(lst) - 1)\n",
    "print('정렬 후:\\t', end='')\n",
    "print(lst)"
   ]
  }
 ],
 "metadata": {
  "kernelspec": {
   "display_name": "Python 3",
   "language": "python",
   "name": "python3"
  },
  "language_info": {
   "codemirror_mode": {
    "name": "ipython",
    "version": 3
   },
   "file_extension": ".py",
   "mimetype": "text/x-python",
   "name": "python",
   "nbconvert_exporter": "python",
   "pygments_lexer": "ipython3",
   "version": "3.11.4"
  }
 },
 "nbformat": 4,
 "nbformat_minor": 2
}

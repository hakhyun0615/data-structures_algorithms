{
 "cells": [
  {
   "cell_type": "markdown",
   "metadata": {},
   "source": [
    "되추적: 모든 해 후보 고려(brute-force)하면서 제약 조건 만족하지 않으면 즉시 되돌아가 다른 해 후보 고려\n",
    "- 최적화(최대/최소), 결정(제약 조건 만족하는 해 존재 여부) 문제에서 사용\n",
    "- 상태 공간 트리:문제 해결 과정을 나타낸 논리적 트리\n",
    "    - DFS(재귀적 전위순회)+가지치기(유망성 확인 후 후손 노드 방문 중단)로 해를 찾음"
   ]
  },
  {
   "cell_type": "code",
   "execution_count": 1,
   "metadata": {},
   "outputs": [
    {
     "name": "stdout",
     "output_type": "stream",
     "text": [
      "[2, 4, 1, 3]\n",
      "[3, 1, 4, 2]\n"
     ]
    }
   ],
   "source": [
    "n = 4\n",
    "col = [0] * (n+1) # root: first zero\n",
    "\n",
    "def n_queens(col, i): # i: current row\n",
    "    n = len(col) - 1\n",
    "    if is_promising(col, i):\n",
    "        if i == n: # if last row\n",
    "            print(col[1:])\n",
    "        else:\n",
    "            for j in range(1, n + 1): # j: columns\n",
    "                col[i + 1] = j \n",
    "                n_queens(col, i + 1)\n",
    "\n",
    "def is_promising(col, i): # i: current row\n",
    "    j = 1 # checking row\n",
    "    while j < i:\n",
    "        if col[i] == col[j] or abs(col[i] - col[j]) == (i - j):\n",
    "            return False\n",
    "        j += 1\n",
    "    return True\n",
    "\n",
    "n_queens(col, 0)"
   ]
  }
 ],
 "metadata": {
  "kernelspec": {
   "display_name": "Python 3",
   "language": "python",
   "name": "python3"
  },
  "language_info": {
   "codemirror_mode": {
    "name": "ipython",
    "version": 3
   },
   "file_extension": ".py",
   "mimetype": "text/x-python",
   "name": "python",
   "nbconvert_exporter": "python",
   "pygments_lexer": "ipython3",
   "version": "3.11.4"
  }
 },
 "nbformat": 4,
 "nbformat_minor": 2
}

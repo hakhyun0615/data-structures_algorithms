{
 "cells": [
  {
   "cell_type": "markdown",
   "metadata": {},
   "source": [
    "0-1 knapsack problem\n",
    "- 그리디 X\n",
    "    - 최적의 하위 구조 특성 O\n",
    "    - 탐욕적 선택 특성 X\n",
    "- 분할 정복 O: 순환식(재귀) 사용, **O(N<sup>2</sup>)**\n",
    "    - 최적의 하위 구조 특성 O\n",
    "- 분할 정복 + 메모 / 동적 프로그래밍 O: 순환식(재귀/테이블) 사용, **O(NW)**\n",
    "    - 최적의 하위 구조 특성 O\n",
    "    - 동일한 부분 문제 중복 특성 O"
   ]
  },
  {
   "cell_type": "code",
   "execution_count": 1,
   "metadata": {},
   "outputs": [
    {
     "name": "stdout",
     "output_type": "stream",
     "text": [
      "7\n"
     ]
    }
   ],
   "source": [
    "# 분할 정복\n",
    "def knapsack(N, W, p, w):\n",
    "    if N == 0 or W == 0: # termination condition\n",
    "        return 0\n",
    "    \n",
    "    if w[N-1] > W:\n",
    "        return knapsack(N-1, W, p, w)\n",
    "    else:\n",
    "        include = p[N-1] + knapsack(N-1, W-w[N-1], p, w)\n",
    "        exclude = knapsack(N-1, W, p, w)\n",
    "        return max(include, exclude)\n",
    "\n",
    "p = [3, 4, 5, 6]\n",
    "w = [2, 3, 4, 5]\n",
    "N = len(p)\n",
    "W = 5\n",
    "print(knapsack(N, W, p, w))"
   ]
  },
  {
   "cell_type": "code",
   "execution_count": 3,
   "metadata": {},
   "outputs": [
    {
     "name": "stdout",
     "output_type": "stream",
     "text": [
      "7\n"
     ]
    }
   ],
   "source": [
    "# 분할 정복 + 메모\n",
    "def knapsack_memo(N, W, p, w):\n",
    "    if  N == 0 or W == 0:\n",
    "        return 0\n",
    "\n",
    "    if cache[N][W] != -1:\n",
    "        return cache[N][W]\n",
    "\n",
    "    if w[N-1] > W:\n",
    "        cache[N][W] = knapsack_memo(N-1, W, p, w)\n",
    "        return cache[N][W]\n",
    "    else:\n",
    "        include = p[N-1] + knapsack_memo(N-1, W-w[N-1], p, w)\n",
    "        exclude = knapsack_memo(N-1, W, p, w)\n",
    "        cache[N][W] = max(include, exclude)\n",
    "        return cache[N][W]\n",
    "\n",
    "p = [3, 4, 5, 6]\n",
    "w = [2, 3, 4, 5]\n",
    "N = len(p)\n",
    "W = 5\n",
    "cache = [[-1] * (W + 1) for i in range(N + 1)]\n",
    "print(knapsack_memo(N, W, p, w))"
   ]
  },
  {
   "cell_type": "code",
   "execution_count": 4,
   "metadata": {},
   "outputs": [
    {
     "name": "stdout",
     "output_type": "stream",
     "text": [
      "22\n"
     ]
    }
   ],
   "source": [
    "# 동적 프로그래밍\n",
    "def knapsack_dp(N, W, p, w):\n",
    "    cache = [[0] * (W + 1) for i in range(0, N + 1)]\n",
    "\n",
    "    for i in range(1, N + 1):\n",
    "        for j in range(1, W + 1):\n",
    "            if w[i - 1] > j:\n",
    "                cache[i][j] = cache[i - 1][j]\n",
    "            else:\n",
    "                include = p[i - 1] + cache[i - 1][j - w[i - 1]]\n",
    "                exclude = cache[i - 1][j]\n",
    "                cache[i][j] = max(include, exclude)\n",
    "\n",
    "    return cache[N][W]\n",
    "\n",
    "p = [6, 10, 12]\n",
    "w = [1, 2, 3]\n",
    "N = len(p)\n",
    "W = 5\n",
    "print(knapsack_dp(N, W, p, w))"
   ]
  },
  {
   "cell_type": "code",
   "execution_count": null,
   "metadata": {},
   "outputs": [],
   "source": []
  }
 ],
 "metadata": {
  "kernelspec": {
   "display_name": "Python 3",
   "language": "python",
   "name": "python3"
  },
  "language_info": {
   "codemirror_mode": {
    "name": "ipython",
    "version": 3
   },
   "file_extension": ".py",
   "mimetype": "text/x-python",
   "name": "python",
   "nbconvert_exporter": "python",
   "pygments_lexer": "ipython3",
   "version": "3.11.4"
  }
 },
 "nbformat": 4,
 "nbformat_minor": 2
}

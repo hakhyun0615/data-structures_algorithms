{
 "cells": [
  {
   "cell_type": "markdown",
   "metadata": {},
   "source": [
    "힙: 완전 이진트리 & 힙속성/조건(부모 키 우선순위 > 자식 키 우선순위)\n",
    "- MIN 힙: 키 값이 작을수록 우선순위가 높음\n",
    "- MAX 힙: 키 값이 높을수록 우선순위가 높음\n",
    "\n",
    "물리적 구현\n",
    "- (완전 이진트리이므로) 파이썬 리스트\n",
    "    - 첫 번째 단말노드의 인덱스: desc(N/2)\n",
    "    - N//2 <= 단말노드 인덱스 <= N-1"
   ]
  },
  {
   "cell_type": "markdown",
   "metadata": {},
   "source": [
    "파이썬 리스트\n",
    "- 파이썬 리스트를 힙으로 만들기(heapify)\n",
    "    - 하향식 알고리즘, **O(NlogN)**\n",
    "        - N개 삽입(append+upheap)\n",
    "    - 상향식 알고리즘, **O(N)**\n",
    "        - 마지막 비단말 노드(N//2-1)를 시작으로 루트 노드(0)까지의 서브 트리에 대해 downheap\n",
    "- 삽입(insert/enheap(key)), **O(logN)**\n",
    "    - 일단 append\n",
    "    - 힙조건이 만족될 때까지 upheap(swap)\n",
    "        - 더 낮은 우선순위를 가진 부모와 swap\n",
    "- (우선순위가 가장 높은 루트 노드) 삭제 및 반환(extract_min/deheap()), **O(logN)**\n",
    "    - 루트 노드와 마지막 노드를 바꾸고 마지막 노드 삭제\n",
    "    - 힙조건 만족될 때까지 downheap(swap)\n",
    "        - 자식 중에 더 높은 우선순위를 가진 자식과 swap"
   ]
  },
  {
   "cell_type": "code",
   "execution_count": 1,
   "metadata": {},
   "outputs": [
    {
     "name": "stdout",
     "output_type": "stream",
     "text": [
      "2 3 4 5 6 7 \n",
      "Size of Heap =  6\n",
      "1 3 2 5 6 7 4 9 11 19 \n",
      "Size of Heap =  10\n",
      "1\n",
      "2\n",
      "3 5 4 9 6 7 19 11 \n",
      "Size of Heap =  8\n"
     ]
    }
   ],
   "source": [
    "class BinaryHeap:\n",
    "    # O(1)\n",
    "    def __init__(self, array = []):\n",
    "        self.items = array\n",
    "\n",
    "    # O(1)\n",
    "    def size(self):\n",
    "        return len(self.items)\n",
    "    \n",
    "    # O(1)\n",
    "    def swap(self, i, j):\n",
    "        self.items[i], self.items[j] = self.items[j], self.items[i]\n",
    "\n",
    "    # what users are going to use\n",
    "    # O(logN) (upheap, at worst upheap(swap) until the root(height of the tree))\n",
    "    def insert(self, key):\n",
    "        self.items.append(key)\n",
    "        self.upheap(self.size() - 1)\n",
    "    \n",
    "    def upheap(self, i):\n",
    "        while i > 0 and self.items[(i-1)//2] > self.items[i]: # if not root node and parent priority < child priority\n",
    "            self.swap(i, (i-1)//2)\n",
    "            i = (i-1)//2 \n",
    "\n",
    "    # what users are going to use\n",
    "    # O(logN) (downheap, at worst downheap(swap) until the leaf(height of the tree))\n",
    "    def extract_min(self):\n",
    "        if self.size() == 0:\n",
    "            print(\"Heap is empty.\")\n",
    "            return None\n",
    "        minimum = self.items[0]\n",
    "        self.swap(0, -1)\n",
    "        del self.items[-1]\n",
    "        self.downheap(0)\n",
    "        return minimum\n",
    "    \n",
    "    def downheap(self, i):\n",
    "        while 2*i + 1 <= self.size()-1: # if left child exists\n",
    "            k = 2*i + 1 # left child index\n",
    "            if k < self.size()-1 and self.items[k] > self.items[k+1]: # if right child exits and left child priority < right child priority\n",
    "                k += 1\n",
    "            if self.items[i] < self.items[k]: # if parent priority > child priority\n",
    "                break\n",
    "            self.swap(i, k)\n",
    "            i = k\n",
    "    \n",
    "    # O(N)\n",
    "    def build_heap(self, array):\n",
    "        for i in range(len(array)//2 - 1, -1, -1):\n",
    "            self.downheap(i)\n",
    "\n",
    "    def print_heap(self):\n",
    "        for i in range(0, self.size()):\n",
    "            print(self.items[i], end=' ')\n",
    "        print(\"\\nSize of Heap = \", self.size())\n",
    "\n",
    "array = [3,2,4,5,6,7]\n",
    "bheap = BinaryHeap(array)\n",
    "bheap.build_heap(array)\n",
    "bheap.print_heap()\n",
    "bheap.insert(1)\n",
    "bheap.insert(9)\n",
    "bheap.insert(11)\n",
    "bheap.insert(19)\n",
    "bheap.print_heap()\n",
    "print(bheap.extract_min())\n",
    "print(bheap.extract_min())\n",
    "bheap.print_heap()"
   ]
  }
 ],
 "metadata": {
  "kernelspec": {
   "display_name": "Python 3",
   "language": "python",
   "name": "python3"
  },
  "language_info": {
   "codemirror_mode": {
    "name": "ipython",
    "version": 3
   },
   "file_extension": ".py",
   "mimetype": "text/x-python",
   "name": "python",
   "nbconvert_exporter": "python",
   "pygments_lexer": "ipython3",
   "version": "3.11.4"
  }
 },
 "nbformat": 4,
 "nbformat_minor": 2
}

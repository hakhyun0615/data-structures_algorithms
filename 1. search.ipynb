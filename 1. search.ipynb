{
 "cells": [
  {
   "cell_type": "markdown",
   "metadata": {},
   "source": [
    "선형검색: 정렬되지 않은 리스트에서 검색, **O(N)**"
   ]
  },
  {
   "cell_type": "code",
   "execution_count": null,
   "metadata": {},
   "outputs": [],
   "source": [
    "# lst: list, n: list size, x: search key\n",
    "def linear_search(lst, n, x):\n",
    "    for i in range(n):\n",
    "        if lst[i] == x:\n",
    "            return i\n",
    "    return -1\n",
    "\n",
    "lst = [10, 7, 11, 5, 3, 8, 16, 13]\n",
    "n = len(lst)\n",
    "result = linear_search(lst, n, 30)\n",
    "if result != -1:\n",
    "    print(\"Found at index {}.\".format(result))\n",
    "else:\n",
    "    print(\"Not Found.\")"
   ]
  },
  {
   "cell_type": "markdown",
   "metadata": {},
   "source": [
    "이진검색: 정렬된 리스트에서 검색, **O(logN)**"
   ]
  },
  {
   "cell_type": "code",
   "execution_count": null,
   "metadata": {},
   "outputs": [],
   "source": [
    "# lst: list, n: list size, x: search key\n",
    "def binary_search(lst, n, x):\n",
    "    mid = 0\n",
    "    low = 0\n",
    "    high = n-1\n",
    "    while low <= high:\n",
    "        mid = (low + high) // 2\n",
    "        if x == lst[mid]:\n",
    "            return mid\n",
    "        if x < lst[mid]:\n",
    "            high = mid - 1\n",
    "        else:\n",
    "            low = mid + 1\n",
    "    return -1\n",
    "\n",
    "lst = [3, 5, 7, 8, 10, 11, 13, 16]\n",
    "n = len(lst)\n",
    "result = linear_search(lst, n, 30)\n",
    "if result != -1:\n",
    "    print(\"Found at index {}.\".format(result))\n",
    "else:\n",
    "    print(\"Not Found.\")"
   ]
  }
 ],
 "metadata": {
  "language_info": {
   "name": "python"
  }
 },
 "nbformat": 4,
 "nbformat_minor": 2
}

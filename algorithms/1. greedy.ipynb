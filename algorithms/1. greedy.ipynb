{
 "cells": [
  {
   "cell_type": "markdown",
   "metadata": {},
   "source": [
    "그리디: 매번 최적의 부분 해 선택\n",
    "- 최적화(최대/최소) 문제에서 사용\n",
    "    - 다양한 선택 기준 O\n",
    "- 항상 최적의 해를 도출할 수 없음 (근사해, 휴리스틱 알고리즘)\n",
    "    - 반례를 통해 확인 가능\n",
    "    - 다만 다음 두 조건을 만족하면 항상 최적의 해를 도출할 수 있음\n",
    "        - 최적의 하위 구조 특성: 최적의 최종 해가 최적의(단 하나의) 부분 해들로 이루어져 있을 때\n",
    "        - 탐욕적 선택 특성: 선택시 최적의 부분 해만 선택하게 되어 최적의 최종 해를 만들 수 있을 때\n",
    "            - 만족 못하면 대신 동적 프로그래밍 사용\n",
    "- 설계 과정\n",
    "    1. 선정 과정: 최적이라 생각되는 부분 해 선택\n",
    "    2. 적정성 점검: 선택한 부분 해를 해 집합에 포함시키는 것이 적절한지 확인 후 포함\n",
    "    3. 해답 점검(종료조건): 선정 과정과 적정성 점검을 반복하면서 새로운 해 집합이 최종 해인지 확인"
   ]
  },
  {
   "cell_type": "code",
   "execution_count": 1,
   "metadata": {},
   "outputs": [
    {
     "name": "stdout",
     "output_type": "stream",
     "text": [
      "10 5 1 "
     ]
    }
   ],
   "source": [
    "def coin_change(x):\n",
    "    d = [1, 5, 10, 50, 100, 500]\n",
    "    result = []\n",
    "    i = len(d) - 1 # last index # selection procedure\n",
    "    while True:\n",
    "        while x >= d[i]: # feasibility check\n",
    "            x = x - d[i]\n",
    "            result.append(d[i])\n",
    "        i -= 1\n",
    "        if i < 0: # solution check\n",
    "            break\n",
    "    for i in range(len(result)):\n",
    "        print(result[i], end=\" \")\n",
    "\n",
    "x = 16\n",
    "coin_change(x)"
   ]
  },
  {
   "cell_type": "markdown",
   "metadata": {},
   "source": [
    "신장 트리: 싸이클이 없는(트리) 무방향,가중치,연결 그래프\n",
    "- 정점: N\n",
    "- 간선: N-1 (싸이클 X)\n",
    "\n",
    "최소 신장 트리: 가중치 합이 최소인 신장 트리\n",
    "- (최소이므로) 그리디 알고리즘으로 찾음\n",
    "    - Prim 알고리즘\n",
    "    - Kruskal 알고리즘\n",
    "- 하나 이상 존재 가능"
   ]
  },
  {
   "cell_type": "markdown",
   "metadata": {},
   "source": [
    "Kruskal 알고리즘: 신장 트리의 간선(E)를 기반으로 동작, **O(MlogM), O(NlogN)(희소 그래프, 신장 트리) ~ O(N<sup>2</sup>logN)(밀집 그래프)**\n",
    "\n",
    "- 신장 트리 간선을 가중치 기준 오름차순 정렬(**O(MlogM)**)\n",
    "- 신장 트리 정점으로 서로소 집합 생성(**O(N)**)\n",
    "1. 선정 과정: **가중치가 가장 작은** 신장 트리의 **간선 선택**\n",
    "2. 적정성 검사: 두 정점이 다른 루트(집합)이면(**싸이클을 생성되지 않는다면**) 두 트리(집합) union 후 **최소 신장 트리의 간선에 추가**(**O(MlogM)**)\n",
    "3. 해답 점검: 정점들이 하나의 집합이 될 때(**최소 신장 트리의 간선이 N-1개일 때**) **종료**\n",
    "\n",
    "서로소 집합: 최소 신장 트리에서 싸이클 생성 여부 판단할 수 있는 자료구조\n",
    "- 논리적: 트리\n",
    "- 물리적: 파이썬 리스트\n",
    "    - 크기: 노드 수\n",
    "    - 인덱스: 노드\n",
    "    - 값: 루트(각 집합의 대표값)/부모\n",
    "- 연산: find & union\n",
    "    - find: 루트(해당 집합의 대표값) 반환, **O(MlogM)**\n",
    "        - 경로 압축을 통해 더 빠른 수행 가능\n",
    "    - union: 합집합"
   ]
  },
  {
   "cell_type": "code",
   "execution_count": 17,
   "metadata": {},
   "outputs": [
    {
     "name": "stdout",
     "output_type": "stream",
     "text": [
      "최소신장트리: [(4, 6), (2, 5), (1, 6), (3, 5), (5, 6), (0, 1)]\n",
      "최소신장트리 가중치: 25\n"
     ]
    }
   ],
   "source": [
    "N = 7 # number of vertexes\n",
    "weights = [\n",
    "    (0, 1, 9), (0, 2, 10), (1, 3, 10), (1, 4, 5),\n",
    "    (1, 6, 3), (2, 3, 9), (2, 4, 7), (2, 5, 2),\n",
    "    (3, 5, 4), (3, 6, 8), (4, 6, 1), (5, 6, 6)\n",
    "] # (vertex 1, vertex 2, weight)\n",
    "\n",
    "weights.sort(key=lambda t: t[2]) # sort ascending\n",
    "\n",
    "mst = [] # mst edges\n",
    "p = [] # disjoint sets\n",
    "\n",
    "for i in range(N):\n",
    "    p.append(i)\n",
    "\n",
    "# O(h)(normally O(logN) if biased O(N))\n",
    "def find(u): # u: node\n",
    "    if u != p[u]: # p: disjoint sets/python list\n",
    "        p[u] = find(p[u]) # path compression(change the value to root node)\n",
    "    return p[u]    \n",
    "\n",
    "def union(u, v):\n",
    "    root1 = find(u)\n",
    "    root2 = find(v)\n",
    "    p[root2] = root1 # unify under root1\n",
    "\n",
    "tree_edges = 0\n",
    "mst_cost = 0\n",
    "\n",
    "while True:\n",
    "    if tree_edges == N - 1: # if mst # solution check\n",
    "        break\n",
    "    u, v, wt = weights.pop(0) # return first element # selection procedure\n",
    "    if find(u) != find(v): # if different set # feasibility check\n",
    "        union(u, v)\n",
    "        mst.append((u, v))\n",
    "        mst_cost += wt\n",
    "        tree_edges += 1\n",
    "\n",
    "print('최소신장트리:', mst)\n",
    "print('최소신장트리 가중치:', mst_cost)"
   ]
  },
  {
   "cell_type": "markdown",
   "metadata": {},
   "source": [
    "Prim 알고리즘: 신장 트리의 정점(V)를 기반으로 동작, **O(N<sup>2</sup>)**\n",
    "\n",
    "- 임의의 시작 정점 선택\n",
    "- dist, visited 초기화\n",
    "1. 선정 과정: **방문 안 한**(최소 신장 트리에 포함되지 않은) dist가 최소인(**가중치가 가장 작은**) **정점을 찾아 최소 신장 트리에 정점 추가** 후 dist 갱신\n",
    "2. 적정성 검사(최소 신장 트리의 추가 후 싸이클 존재 유무 검사): X\n",
    "3. 해답 점검: **최소 신장 트리의 정점 수가 N개일 때 종료**"
   ]
  },
  {
   "cell_type": "code",
   "execution_count": 14,
   "metadata": {},
   "outputs": [
    {
     "name": "stdout",
     "output_type": "stream",
     "text": [
      "최소신장트리: (1, 0) 9 (2, 5) 2 (3, 5) 4 (4, 6) 1 (5, 6) 6 (6, 1) 3 \n",
      "최소신장트리 가중치: 25\n"
     ]
    }
   ],
   "source": [
    "import sys # for ∞\n",
    "\n",
    "N = 7 # number of vertexes\n",
    "s = 0 # start vertex\n",
    "g = [None for x in range(N)] # adjacency list\n",
    "g[0] = [(1, 9), (2, 10)] # g[vertex 1] = [(vertex 2, weight)]\n",
    "g[1] = [(0, 9), (3, 10), (4, 5), (6, 3)]\n",
    "g[2] = [(0, 10), (3, 9), (4, 7), (5, 2)]\n",
    "g[3] = [(1, 10), (2, 9), (5, 4), (6, 8)]\n",
    "g[4] = [(1, 5), (2, 7), (6, 1)]\n",
    "g[5] = [(2, 2), (3, 4), (6, 6)]\n",
    "g[6] = [(1, 3), (3, 8), (4, 1), (5, 6)]\n",
    "\n",
    "visited = [False for x in range(N)] # in mst\n",
    "dist = [sys.maxsize for x in range(N)] # distance to vertex\n",
    "dist[s] = 0\n",
    "previous = [None for x in range(N)] # vertex connected from (edge)\n",
    "previous[s] = s\n",
    "\n",
    "for v in range(N):\n",
    "    # find vertex with smallest distance\n",
    "    u = -1\n",
    "    mindist = sys.maxsize\n",
    "    for i in range(N):\n",
    "        if not visited[i] and dist[i] < mindist:\n",
    "            mindist = dist[i]\n",
    "            u = i # vertex found\n",
    "    visited[u] = True\n",
    "    # update distance using the vertex found\n",
    "    for w, wt in g[u]:\n",
    "        if not visited[w]: # adjacent vertex not visited \n",
    "            if wt < dist[w]:\n",
    "                dist[w] = wt\n",
    "                previous[w] = u\n",
    "\n",
    "print('최소신장트리: ', end='')\n",
    "mst_cost = 0\n",
    "for i in range(1, N):\n",
    "    print('(%d, %d) %d' %(i, previous[i], dist[i]), end=' ')\n",
    "    mst_cost += dist[i]\n",
    "print('\\n최소신장트리 가중치:', mst_cost)"
   ]
  },
  {
   "cell_type": "code",
   "execution_count": null,
   "metadata": {},
   "outputs": [],
   "source": []
  }
 ],
 "metadata": {
  "kernelspec": {
   "display_name": "Python 3",
   "language": "python",
   "name": "python3"
  },
  "language_info": {
   "codemirror_mode": {
    "name": "ipython",
    "version": 3
   },
   "file_extension": ".py",
   "mimetype": "text/x-python",
   "name": "python",
   "nbconvert_exporter": "python",
   "pygments_lexer": "ipython3",
   "version": "3.11.4"
  }
 },
 "nbformat": 4,
 "nbformat_minor": 2
}

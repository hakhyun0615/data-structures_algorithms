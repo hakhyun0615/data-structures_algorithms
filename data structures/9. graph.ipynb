{
 "cells": [
  {
   "cell_type": "markdown",
   "metadata": {},
   "source": [
    "그래프: 연결되어 있는 원소 간의 관계를 표현할 수 있는 **논리적** 비선형 구조\n",
    "- 트리(싸이클이 없는 그래프) ⊂ 그래프\n",
    "- G = (V,E)\n",
    "    - 그래프(G)\n",
    "    - 정점(V): 원소\n",
    "    - 간선(E): 선\n",
    "- 차수(Degree): 특정 정점에 인접한 정점들의 수\n",
    "    - 진입 차수(In-degree): 들어오는\n",
    "    - 진출 차수((Out-degree): 나가는\n",
    "- 그래프 종류\n",
    "    - 무방향 그래프: 간선 방향 X\n",
    "        - ex) V={a,b,c,...}, E={(a,b),(a,c),...}\n",
    "    - 방향 그래프: 간선 방향 O\n",
    "        - ex) V={a,b,c,...}, E={<a,b>,<b,a>,...}\n",
    "\n",
    "물리적 구현\n",
    "- 인접 행렬(비효율)\n",
    "    - NxN 파이썬 리스트\n",
    "    - i: 나가는\n",
    "    - j: 들어오는\n",
    "    - 간선 O: G[i][j] = 1/가중치\n",
    "    - 간선 X: G[i][j] = 0\n",
    "- 인접 리스트(주로 사용)\n",
    "    - 정점마다 (나가는) 파이썬 리스트(순서 상관 X)"
   ]
  },
  {
   "cell_type": "markdown",
   "metadata": {},
   "source": [
    "탐색\n",
    "- DFS(재귀 호출), **O(V+E)**\n",
    "- BFS(레벨순회), **O(V+E)**"
   ]
  },
  {
   "cell_type": "code",
   "execution_count": 1,
   "metadata": {},
   "outputs": [
    {
     "name": "stdout",
     "output_type": "stream",
     "text": [
      "DFS 방문 순서:\n",
      "0  2  3  9  8  1  4  5  7  6  "
     ]
    }
   ],
   "source": [
    "def dfs(v):\n",
    "    visited[v] = True\n",
    "    print(v, ' ', end='')\n",
    "    for i in adj_list[v]:\n",
    "        if not visited[i]:\n",
    "            dfs(i)\n",
    "\n",
    "adj_list = [[2, 1], [3, 0], [3, 0], [9, 8, 2, 1],\n",
    "            [5], [7, 6, 4], [7, 5], [6, 5], [3], [3]] # adjacency list\n",
    "N = len(adj_list) # number of vertex\n",
    "visited = [False] * N\n",
    "\n",
    "print('DFS 방문 순서:')\n",
    "for i in range(N):\n",
    "    if not visited[i]:\n",
    "        dfs(i)"
   ]
  },
  {
   "cell_type": "code",
   "execution_count": 2,
   "metadata": {},
   "outputs": [
    {
     "name": "stdout",
     "output_type": "stream",
     "text": [
      "BFS 방문 순서:\n",
      "0  2  1  3  9  8  4  5  7  6  "
     ]
    }
   ],
   "source": [
    "from queue import Queue\n",
    "\n",
    "def bfs(v):\n",
    "    queue = Queue()\n",
    "    visited[v] = True\n",
    "    queue.put(v)\n",
    "    while not queue.empty():\n",
    "        v = queue.get()\n",
    "        print(v, ' ', end='')\n",
    "        for i in adj_list[v]:\n",
    "            if not visited[i]:\n",
    "                visited[i] = True\n",
    "                queue.put(i)\n",
    "\n",
    "adj_list = [[2, 1], [3, 0], [3, 0], [9, 8, 2, 1],\n",
    "            [5], [7, 6, 4], [7, 5], [6, 5], [3], [3]] # adjacency list\n",
    "N = len(adj_list) # number of vertex\n",
    "visited = [False] * N\n",
    "\n",
    "print('BFS 방문 순서:')\n",
    "for i in range(N):\n",
    "    if not visited[i]:\n",
    "        bfs(i)"
   ]
  }
 ],
 "metadata": {
  "kernelspec": {
   "display_name": "Python 3",
   "language": "python",
   "name": "python3"
  },
  "language_info": {
   "codemirror_mode": {
    "name": "ipython",
    "version": 3
   },
   "file_extension": ".py",
   "mimetype": "text/x-python",
   "name": "python",
   "nbconvert_exporter": "python",
   "pygments_lexer": "ipython3",
   "version": "3.11.4"
  }
 },
 "nbformat": 4,
 "nbformat_minor": 2
}

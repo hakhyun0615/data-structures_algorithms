{
 "cells": [
  {
   "cell_type": "markdown",
   "metadata": {},
   "source": [
    "분할 정복: 분할 + 정복 + (통합)\n",
    "- 하향식(top-down)\n",
    "- 분할: 부분 문제들로 분할\n",
    "- 정복: 부분 문제들의 부분 해를 찾기\n",
    "- (통합): 부분 해들을 통합"
   ]
  },
  {
   "cell_type": "markdown",
   "metadata": {},
   "source": [
    "합병 정렬, **O(NlogN)**\n",
    "- 분할: L[low,mid], L[mid+1,high]\n",
    "- 정복: 각각 사이즈가 1이 될 때까지 재귀적으로 분할\n",
    "- 통합: 서브 리스트를 합병"
   ]
  },
  {
   "cell_type": "code",
   "execution_count": 4,
   "metadata": {},
   "outputs": [
    {
     "name": "stdout",
     "output_type": "stream",
     "text": [
      "정렬 전:\t[54, 88, 77, 26, 93, 17, 49, 10, 17, 77, 11, 31, 22, 44, 17, 20]\n",
      "0 0 1\n",
      "[54, 88, None, None, None, None, None, None, None, None, None, None, None, None, None, None]\n",
      "2 2 3\n",
      "[54, 88, 26, 77, None, None, None, None, None, None, None, None, None, None, None, None]\n",
      "0 1 3\n",
      "[26, 54, 77, 88, None, None, None, None, None, None, None, None, None, None, None, None]\n",
      "4 4 5\n",
      "[26, 54, 77, 88, 17, 93, None, None, None, None, None, None, None, None, None, None]\n",
      "6 6 7\n",
      "[26, 54, 77, 88, 17, 93, 10, 49, None, None, None, None, None, None, None, None]\n",
      "4 5 7\n",
      "[26, 54, 77, 88, 10, 17, 49, 93, None, None, None, None, None, None, None, None]\n",
      "0 3 7\n",
      "[10, 17, 26, 49, 54, 77, 88, 93, None, None, None, None, None, None, None, None]\n",
      "8 8 9\n",
      "[10, 17, 26, 49, 54, 77, 88, 93, 17, 77, None, None, None, None, None, None]\n",
      "10 10 11\n",
      "[10, 17, 26, 49, 54, 77, 88, 93, 17, 77, 11, 31, None, None, None, None]\n",
      "8 9 11\n",
      "[10, 17, 26, 49, 54, 77, 88, 93, 11, 17, 31, 77, None, None, None, None]\n",
      "12 12 13\n",
      "[10, 17, 26, 49, 54, 77, 88, 93, 11, 17, 31, 77, 22, 44, None, None]\n",
      "14 14 15\n",
      "[10, 17, 26, 49, 54, 77, 88, 93, 11, 17, 31, 77, 22, 44, 17, 20]\n",
      "12 13 15\n",
      "[10, 17, 26, 49, 54, 77, 88, 93, 11, 17, 31, 77, 17, 20, 22, 44]\n",
      "8 11 15\n",
      "[10, 17, 26, 49, 54, 77, 88, 93, 11, 17, 17, 20, 22, 31, 44, 77]\n",
      "0 7 15\n",
      "[10, 11, 17, 17, 17, 20, 22, 26, 31, 44, 49, 54, 77, 77, 88, 93]\n",
      "정렬 후:\t[10, 11, 17, 17, 17, 20, 22, 26, 31, 44, 49, 54, 77, 77, 88, 93]\n"
     ]
    }
   ],
   "source": [
    "def merge(lst, temp, low, mid, high):\n",
    "    i = low\n",
    "    j = mid + 1\n",
    "    for k in range(low, high + 1):\n",
    "        if i > mid:\n",
    "            temp[k] = lst[j]\n",
    "            j += 1\n",
    "        elif j > high:\n",
    "            temp[k] = lst[i]\n",
    "            i += 1\n",
    "        elif lst[j] < lst[i]:\n",
    "            temp[k] = lst[j]\n",
    "            j += 1\n",
    "        else:\n",
    "            temp[k] = lst[i]\n",
    "            i += 1\n",
    "    for k in range(low, high + 1):\n",
    "        lst[k] = temp[k]\n",
    "\n",
    "def merge_sort(lst, temp, low, high):\n",
    "    if high <= low: \n",
    "        return None\n",
    "    mid = low + (high - low) // 2 # divide\n",
    "    merge_sort(lst, temp, low, mid) # conquer\n",
    "    merge_sort(lst, temp, mid + 1, high) # conquer\n",
    "    merge(lst, temp, low, mid, high) # merge\n",
    "\n",
    "lst = [54, 88, 77, 26, 93, 17, 49, 10, 17, 77, 11, 31, 22, 44, 17, 20]\n",
    "temp = [None] * len(lst)\n",
    "print('정렬 전:\\t', end='')\n",
    "print(lst)\n",
    "merge_sort(lst, temp, 0, len(lst) - 1)\n",
    "print('정렬 후:\\t', end='')\n",
    "print(lst)"
   ]
  },
  {
   "cell_type": "markdown",
   "metadata": {},
   "source": [
    "퀵 정렬, **O(NlogN)**\n",
    "- 분할: 피벗을 기준으로 분할\n",
    "- 정복: 각각 재귀적으로 정렬"
   ]
  },
  {
   "cell_type": "code",
   "execution_count": null,
   "metadata": {},
   "outputs": [],
   "source": [
    "def partition(lst, low, high):\n",
    "    x = lst[high]  \n",
    "    i = low       \n",
    "    for j in range(low, high):\n",
    "        if lst[j] <= x:\n",
    "            lst[i], lst[j] = lst[j], lst[i]\n",
    "            i += 1\n",
    "    lst[i], lst[high] = lst[high], lst[i]  \n",
    "    return i  \n",
    "\n",
    "def qsort(lst, low, high):\n",
    "    if low < high:\n",
    "        pi = partition(lst, low, high)\n",
    "        qsort(lst, low, pi - 1)       \n",
    "        qsort(lst, pi + 1, high)      \n",
    "\n",
    "lst = [10, 80, 30, 90, 40, 50, 70, 60]\n",
    "print('정렬 전:\\t', end='')\n",
    "print(lst)\n",
    "qsort(lst, 0, len(lst) - 1)\n",
    "print('정렬 후:\\t', end='')\n",
    "print(lst)"
   ]
  }
 ],
 "metadata": {
  "kernelspec": {
   "display_name": "Python 3",
   "language": "python",
   "name": "python3"
  },
  "language_info": {
   "codemirror_mode": {
    "name": "ipython",
    "version": 3
   },
   "file_extension": ".py",
   "mimetype": "text/x-python",
   "name": "python",
   "nbconvert_exporter": "python",
   "pygments_lexer": "ipython3",
   "version": "3.11.4"
  }
 },
 "nbformat": 4,
 "nbformat_minor": 2
}

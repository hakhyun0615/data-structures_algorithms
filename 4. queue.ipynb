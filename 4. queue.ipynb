{
 "cells": [
  {
   "cell_type": "markdown",
   "metadata": {},
   "source": [
    "큐 (←=←): 뒤(rear)에서 삽입(enqueue)하고 앞(front)에서 삭제 및 반환(dequeue)하는 **논리적** 선형 구조\n",
    "- 삽입: enqueue(item)\n",
    "- 삭제 및 반환: dequeue()\n",
    "\n",
    "물리적 구현\n",
    "- 파이썬 리스트 (ㄷ) \n",
    "- 환형 연결 리스트 (→ㅁ→ㅁ→ㅁ(head)→)"
   ]
  },
  {
   "cell_type": "markdown",
   "metadata": {},
   "source": [
    "파이썬 리스트 (ㄷ)\n",
    "- 삽입: **O(1)**\n",
    "- 삭제 및 반환: **O(N)** (자리이동)"
   ]
  },
  {
   "cell_type": "code",
   "execution_count": 1,
   "metadata": {},
   "outputs": [
    {
     "name": "stdout",
     "output_type": "stream",
     "text": [
      "True\n",
      "3\n",
      "False\n",
      "4\n",
      "dog\n",
      "2\n"
     ]
    }
   ],
   "source": [
    "class Queue:\n",
    "    def __init__(self):\n",
    "        self.items = []\n",
    "    \n",
    "    def is_empty(self):\n",
    "        return self.items == []\n",
    "    \n",
    "    def enqueue(self, item):\n",
    "        self.items.append(item)\n",
    "    \n",
    "    def dequeue(self):\n",
    "        if self.is_empty():\n",
    "            return None\n",
    "        else:\n",
    "            return self.items.pop(0) # 자리이동, O(N)\n",
    "        \n",
    "    def size(self):\n",
    "        return len(self.items)\n",
    "    \n",
    "q = Queue()\n",
    "print(q.is_empty())\n",
    "q.enqueue(4)\n",
    "q.enqueue('dog')\n",
    "q.enqueue(True)\n",
    "print(q.size())\n",
    "print(q.is_empty())\n",
    "q.enqueue(8.4)\n",
    "print(q.dequeue())\n",
    "print(q.dequeue())\n",
    "print(q.size())"
   ]
  },
  {
   "cell_type": "markdown",
   "metadata": {},
   "source": [
    "환형 연결 리스트 (→ㅁ→ㅁ→ㅁ(head)→)\n",
    "- 헤드: rear을 가리키는 변수\n",
    "- 삽입: **O(1)**\n",
    "- 삭제 및 반환:  **O(1)**"
   ]
  },
  {
   "cell_type": "code",
   "execution_count": 4,
   "metadata": {},
   "outputs": [],
   "source": [
    "from utils import Node\n",
    "\n",
    "class Queue:\n",
    "    def __init__(self):\n",
    "        self.head = None\n",
    "\n",
    "    def is_empty(self):\n",
    "        return self.head == None\n",
    "    \n",
    "    def enqueue(self, item):\n",
    "        temp = Node(item)\n",
    "        if self.is_empty():\n",
    "            temp.set_next(temp)\n",
    "            self.head = temp\n",
    "        else:\n",
    "            temp.set_next(self.head.get_next())\n",
    "            self.head.set_next(temp)\n",
    "            self.head = temp\n",
    "    \n",
    "    def dequeue(self):\n",
    "        if self.is_empty():\n",
    "            return None\n",
    "        else:\n",
    "            temp = self.head.get_next() # temp: first node\n",
    "            dequeued_item = self.head.get_item()\n",
    "            if temp == temp.get_next(): # if only one node\n",
    "                self.head = None\n",
    "            else:\n",
    "                self.head.set_next(temp.get_next())\n",
    "            return dequeued_item\n",
    "\n",
    "    def size(self):\n",
    "        count = 0   \n",
    "        if self.is_empty():\n",
    "            return count\n",
    "        temp = self.head.get_next() # first node\n",
    "        current = temp\n",
    "        while True:\n",
    "            count += 1\n",
    "            current = current.get_next()\n",
    "            if current != temp:\n",
    "                continue\n",
    "            else:\n",
    "                break\n",
    "        return count"
   ]
  }
 ],
 "metadata": {
  "kernelspec": {
   "display_name": "Python 3",
   "language": "python",
   "name": "python3"
  },
  "language_info": {
   "codemirror_mode": {
    "name": "ipython",
    "version": 3
   },
   "file_extension": ".py",
   "mimetype": "text/x-python",
   "name": "python",
   "nbconvert_exporter": "python",
   "pygments_lexer": "ipython3",
   "version": "3.11.4"
  }
 },
 "nbformat": 4,
 "nbformat_minor": 2
}

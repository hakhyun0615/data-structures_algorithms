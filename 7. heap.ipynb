{
 "cells": [
  {
   "cell_type": "markdown",
   "metadata": {},
   "source": [
    "힙: 완전 이진트리 & 힙속성/조건(부모 키 우선순위 > 자식 키 우선순위)\n",
    "- MIN 힙: 키 값이 작을수록 우선순위가 높음\n",
    "- MAX 힙: 키 값이 높을수록 우선순위가 높음\n",
    "\n",
    "물리적 구현\n",
    "- (완전 이진트리이므로) 파이썬 리스트\n",
    "    - 첫 번째 단말노드의 인덱스: desc(N/2)\n",
    "    - N//2 <= 단말노드 인덱스 <= N-1"
   ]
  },
  {
   "cell_type": "markdown",
   "metadata": {},
   "source": [
    "파이썬 리스트\n",
    "- 파이썬 리스트를 힙으로 만들기\n",
    "    - 하향식 알고리즘, **O(NlogN)**\n",
    "        - N개 삽입\n",
    "    - 상향식 알고리즘, **O(N)**\n",
    "- 삽입(insert/enheap(key))\n",
    "    - 일단 append\n",
    "    - 힙조건이 만족될 때까지 upheap(swap)\n",
    "        - 더 낮은 우선순위를 가진 부모와 swap\n",
    "- (우선순위가 가장 높은 루트 노드) 삭제 및 반환(extract_min/deheap())\n",
    "    - 루트 노드와 마지막 노드를 바꾸고 루트 노드 삭제\n",
    "    - 힙조건 만족될 때까지 downheap(swap)\n",
    "        - 자식 중에 더 높은 우선순위를 가진 자식과 swap"
   ]
  },
  {
   "cell_type": "code",
   "execution_count": null,
   "metadata": {},
   "outputs": [],
   "source": [
    "class BinaryHeap:\n",
    "    # O(1)\n",
    "    def __init__(self, array = []):\n",
    "        self.items = array\n",
    "\n",
    "    # O(1)\n",
    "    def size(self):\n",
    "        return len(self.items)\n",
    "    \n",
    "    # O(1)\n",
    "    def swap(self, i, j):\n",
    "        self.items[i], self.items[j] = self.items[j], self.items[i]\n",
    "\n",
    "    # O(logN) (at worst upheap(swap) until the root(height of the tree))\n",
    "    def insert(self, key):\n",
    "        self.items.append(key)\n",
    "        self.uphead(self.size() - 1)\n",
    "    \n",
    "    def upheap(self, i):\n",
    "        while i > 0 and self.items[(i-1)//2] > self.items[i]: \n",
    "            self.swap(i, (i-1)//2)\n",
    "            i = (i-1)//2 \n",
    "\n",
    "    # O(logN) (at worst downheap(swap) until the leaf(height of the tree))\n",
    "    def extract_min(self):\n",
    "        if self.size() == 0:\n",
    "            print(\"Heap is empty.\")\n",
    "            return None\n",
    "        minimum = self.items[0]\n",
    "        self.swap(0, -1)\n",
    "        del self.items[-1]\n",
    "        self.downheap(0)\n",
    "        return minimum\n",
    "    \n",
    "    def downheap(self, i):\n",
    "        while 2*i + 1 <= self.size()-1: # if left child exists\n",
    "            k = 2*i + 1\n",
    "            if k < self.size()-1 and self.items[k] > self.items[k+1]: # if left child priority < right child priority\n",
    "                k += 1\n",
    "            if self.items[i] < self.items[k]: # if parent priority > child priority\n",
    "                break\n",
    "            self.swap(i, k)\n",
    "            i = k"
   ]
  }
 ],
 "metadata": {
  "language_info": {
   "name": "python"
  }
 },
 "nbformat": 4,
 "nbformat_minor": 2
}

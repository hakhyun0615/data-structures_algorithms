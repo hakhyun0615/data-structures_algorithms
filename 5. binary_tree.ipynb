{
 "cells": [
  {
   "cell_type": "markdown",
   "metadata": {},
   "source": [
    "이진트리: 루트 노드 + 왼쪽 서브트리 + 오른쪽 서브트리 (단, empty여도 상관없음, 자식의 순서 구별)를 가진 **논리적** 비선형 구조\n",
    "- 완벽(perfect) 이진트리\n",
    "    - 각 레벨에 존재하는 노드 수: 2^h\n",
    "    - N(모든 노드 수): 2^h(트리 높이)+1 - 1\n",
    "    - h = log(N+1) - 1\n",
    "- 완전(complete) 이진트리: 마지막 레벨 제외하고 노드들이 전부 채워져있고, 마지막 레벨에는 노드들이 왼쪽부터 채워짐\n",
    "    - 2^h <= N(트리 높이가 h일 때 모든 노드 수) <= 2^h+1 -1\n",
    "    - h = ceil(log(N+1)) - 1\n",
    "\n",
    "물리적 구현\n",
    "- 파이썬 리스트 (→/→/→)\n",
    "    - i의 왼쪽 자식: 2i+1\n",
    "    - i의 오른쪽 자식: 2i+2\n",
    "    - i의 부모: (i-1)//2\n",
    "    - (None으로 메모리 낭비가 있기 때문에) **완전/완벽 이진트리일 때** 사용\n",
    "- 연결 리스트\n",
    "    - 완전/완벽 이진트리 이외에 **일반적으로** 사용"
   ]
  },
  {
   "cell_type": "markdown",
   "metadata": {},
   "source": [
    "이진트리 노드\n",
    "- 키(데이터 필드)\n",
    "- 왼쪽 링크 필드\n",
    "- 오른쪽 링크 필드"
   ]
  },
  {
   "cell_type": "code",
   "execution_count": 1,
   "metadata": {},
   "outputs": [
    {
     "name": "stdout",
     "output_type": "stream",
     "text": [
      "10\n",
      "None\n",
      "None\n",
      "15\n"
     ]
    }
   ],
   "source": [
    "class Node:\n",
    "    def __init__(self, item, left_child = None, right_child = None):\n",
    "        self.key = item\n",
    "        self.left = left_child\n",
    "        self.right = right_child\n",
    "\n",
    "    def get_key(self): \n",
    "        return self.key\n",
    "    \n",
    "    def get_left(self): \n",
    "        return self.left\n",
    "    \n",
    "    def get_right(self):\n",
    "        return self.right\n",
    "    \n",
    "    def set_key(self, new_item):\n",
    "        self.key = new_item\n",
    "    \n",
    "    def set_left(self, new_left_child):\n",
    "        self.left = new_left_child\n",
    "    \n",
    "    def set_right(self, new_right_child):\n",
    "        self.right = new_right_child\n",
    "\n",
    "a = Node(10)\n",
    "print(a.get_key())\n",
    "print(a.get_left())\n",
    "print(a.get_right())\n",
    "b = Node(15)\n",
    "a.set_left(b)\n",
    "print(a.get_left().get_key())"
   ]
  },
  {
   "cell_type": "markdown",
   "metadata": {},
   "source": [
    "이진트리 순회, **O(N)**\n",
    "- '전'위순회('pre'order): Self→Left→Right / DFS\n",
    "- '중'위순회('in'order): Left→Self→Right\n",
    "- '후'위순회('post'order): Left→Right→Self\n",
    "- 레벨순회(levelorder): →/→/→ / BFS"
   ]
  },
  {
   "cell_type": "code",
   "execution_count": 27,
   "metadata": {},
   "outputs": [],
   "source": [
    "from utils import Queue\n",
    "\n",
    "class BinaryTree:\n",
    "    def _init_(self):\n",
    "        self.root = None\n",
    "\n",
    "    # same but different order\n",
    "    # recursion\n",
    "    def preorder(self, node):\n",
    "        print(str(node.get_key()), ' ', end='')\n",
    "        if node.get_left():\n",
    "            self.preorder(node.get_left())\n",
    "        if node.get_right():\n",
    "            self.preorder(node.get_right())\n",
    "\n",
    "    def inorder(self, node):\n",
    "        if node.get_left():\n",
    "            self.inorder(node.get_left())\n",
    "        print(str(node.get_key()), ' ', end='') \n",
    "        if node.get_right():\n",
    "            self.inorder(node.get_right())\n",
    "\n",
    "    def postorder(self, node):\n",
    "        if node.get_left():\n",
    "            self.postorder(node.get_left())\n",
    "        if node.get_right():\n",
    "            self.postorder(node.get_right())\n",
    "        print(str(node.get_key()), ' ', end='') \n",
    "\n",
    "    # queue\n",
    "    def levelorder(self, root):\n",
    "        q = Queue()\n",
    "        q.enqueue(root)\n",
    "        while not q.is_empty():\n",
    "            node = q.dequeue()\n",
    "            print(str(node.get_key()), ' ', end='') \n",
    "            if node.get_left():\n",
    "                q.enqueue(node.get_left())\n",
    "            if node.get_right():\n",
    "                q.enqueue(node.get_right())\n",
    "\n",
    "t = BinaryTree()\n",
    "n1 = Node(100)\n",
    "n2 = Node(200)\n",
    "n3 = Node(300)\n",
    "n4 = Node(400)\n",
    "n5 = Node(500)\n",
    "n6 = Node(600)\n",
    "n7 = Node(700)\n",
    "n8 = Node(800)\n",
    "n1.set_left(n2) \n",
    "n1.set_right(n3) \n",
    "n2.set_left(n4)\n",
    "n2.set_right(n5)\n",
    "n3.set_left(n6)\n",
    "n3.set_right(n7)\n",
    "n4.set_left(n8)\n",
    "t.root = n1\n",
    "print(\"전위순회:\\t\", end='')\n",
    "t.preorder(t.root)\n",
    "print(\"\\n중위순회:\\t\", end='')\n",
    "t.inorder(t.root)\n",
    "print(\"\\n후위순회:\\t\", end='')\n",
    "t.postorder(t.root)\n",
    "print(\"\\n레벨순회:\\t\", end='')\n",
    "t.levelorder(t.root)"
   ]
  }
 ],
 "metadata": {
  "kernelspec": {
   "display_name": "Python 3",
   "language": "python",
   "name": "python3"
  },
  "language_info": {
   "codemirror_mode": {
    "name": "ipython",
    "version": 3
   },
   "file_extension": ".py",
   "mimetype": "text/x-python",
   "name": "python",
   "nbconvert_exporter": "python",
   "pygments_lexer": "ipython3",
   "version": "3.11.4"
  }
 },
 "nbformat": 4,
 "nbformat_minor": 2
}

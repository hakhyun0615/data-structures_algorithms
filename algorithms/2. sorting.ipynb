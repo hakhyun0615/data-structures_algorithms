{
 "cells": [
  {
   "cell_type": "markdown",
   "metadata": {},
   "source": [
    "정렬\n",
    "- 탐색 성능 향상 ex) 이진 탐색\n",
    "- 대소관계 비교를 통한 정렬의 최선: O(NlogN)\n",
    "- 내부 정렬\n",
    "    - 선택 정렬\n",
    "    - 삽입 정렬\n",
    "    - 셸 정렬\n",
    "    - 힙 정렬\n",
    "    - 합병 정렬\n",
    "    - 퀵 정렬\n",
    "- 외부 정렬"
   ]
  },
  {
   "cell_type": "markdown",
   "metadata": {},
   "source": [
    "선택 정렬: 정렬되지 않은 부분의 최소 원소를 선택 후 정렬된 부분의 우측 원소와 교환, **O(N<sup>2</sup>)**\n",
    "- 입력에 민감 X (최선=평균=최악)\n",
    "- 입력 사이즈가 작은 경우 우수\n",
    "- 추가 메모리 공간 필요 X"
   ]
  },
  {
   "cell_type": "code",
   "execution_count": 2,
   "metadata": {},
   "outputs": [
    {
     "name": "stdout",
     "output_type": "stream",
     "text": [
      "정렬 전: [40, 70, 60, 30, 10, 50]\n",
      "정렬 후: [10, 30, 40, 50, 60, 70]\n"
     ]
    }
   ],
   "source": [
    "def selection_sort(items):\n",
    "    for i in range(0, len(items)-1): # sorted before i # for each phase\n",
    "        minimum = i\n",
    "        for j in range(i+1, len(items)): # unsorted after i\n",
    "            if items[j] < items[minimum]:\n",
    "                minimum = j\n",
    "        items[i], items[minimum] = items[minimum], items[i]\n",
    "\n",
    "items = [40, 70, 60, 30, 10, 50]\n",
    "print('정렬 전: ', end='')\n",
    "print(items)\n",
    "selection_sort(items)\n",
    "print('정렬 후: ', end='')\n",
    "print(items)"
   ]
  },
  {
   "cell_type": "markdown",
   "metadata": {},
   "source": [
    "삽입 정렬: 정렬되지 않은 부분의 왼쪽 원소를 정렬된 부분에 삽입, **O(N)(최선(정렬)) ~ O(N<sup>2</sup>)(평균,최악(역정렬))**\n",
    "- 입력에 민감 O\n",
    "- 입력 사이즈가 작은 경우 우수\n",
    "- 추가 메모리 공간 필요 X\n",
    "- 사실 정렬되지 않은 부분의 왼쪽 원소를 정렬된 원소들의 우측부터 하나씩 비교하면서 자리 바꾸기"
   ]
  },
  {
   "cell_type": "code",
   "execution_count": 3,
   "metadata": {},
   "outputs": [
    {
     "name": "stdout",
     "output_type": "stream",
     "text": [
      "정렬 전: [40, 70, 60, 30, 10, 50]\n",
      "정렬 후: [10, 30, 40, 50, 60, 70]\n"
     ]
    }
   ],
   "source": [
    "def insertion_sort(items):\n",
    "    for i in range(1, len(items)): # insert i when sorted before i (assume the first element is sorted)\n",
    "        for j in range(i, 0, -1): \n",
    "            if items[j - 1] > items[j]: # compare i with unsorted elements\n",
    "                items[j], items[j - 1] = items[j - 1], items[j]\n",
    "\n",
    "items = [40, 70, 60, 30, 10, 50]\n",
    "print('정렬 전: ', end='')\n",
    "print(items)\n",
    "insertion_sort(items)\n",
    "print('정렬 후: ', end='')\n",
    "print(items)"
   ]
  },
  {
   "cell_type": "markdown",
   "metadata": {},
   "source": [
    "셸 정렬: h를 desc(len÷2<sup>1</sup>), desc(len÷2<sup>2</sup>), ...로 줄여가며 h-정렬(전처리 후 정렬), **O(N<sup>2</sup>)**\n",
    "- 셸 정렬 ⊂ 삽입 정렬\n",
    "- 추가 메모리 공간 필요 X\n",
    "- h-정렬: 간격 h인 원소들로 논리적인 서브 리스트들을 구성한 뒤 각각 삽입 정렬\n",
    "    - 1-정렬: 삽입 정렬\n",
    "        - h-정렬로 이미 거의 정렬이 되어있기에 빠르게 정렬\n",
    "- 삽입 정렬은 거의 정렬이 되어있는 경우 성능이 좋아지는 것에서 고안된 정렬"
   ]
  },
  {
   "cell_type": "code",
   "execution_count": 29,
   "metadata": {},
   "outputs": [
    {
     "name": "stdout",
     "output_type": "stream",
     "text": [
      "정렬 전: [29, 5, 7, 19, 13, 24, 31, 8, 82, 18, 63, 44]\n",
      "(6)-정렬 결과:  [29, 5, 7, 18, 13, 24, 31, 8, 82, 19, 63, 44]\n",
      "(3)-정렬 결과:  [18, 5, 7, 19, 8, 24, 29, 13, 44, 31, 63, 82]\n",
      "정렬 후: [18, 5, 7, 19, 8, 24, 29, 13, 44, 31, 63, 82]\n"
     ]
    }
   ],
   "source": [
    "###\n",
    "items = [29,5,7,19,13,24,31,8,82,18,63,44]\n",
    "\n",
    "def shell_sort(items):\n",
    "    h = len(items)//2\n",
    "    while h > 1:\n",
    "        for i in range(h, len(items)):\n",
    "            j = i\n",
    "            while j >= h and items[j - h] > items[j]:\n",
    "                items[j], items[j - h] = items[j - h], items[j]\n",
    "                j -= h\n",
    "        print(\"({})-정렬 결과: \".format(h), items)\n",
    "        h //= 2\n",
    "\n",
    "print('정렬 전: ', end='')\n",
    "print(items)\n",
    "shell_sort(items)\n",
    "print('정렬 후: ', end='')\n",
    "print(items)"
   ]
  },
  {
   "cell_type": "code",
   "execution_count": 40,
   "metadata": {},
   "outputs": [
    {
     "name": "stdout",
     "output_type": "stream",
     "text": [
      "정렬 전: [39, 23, 15, 47, 11, 56, 61, 16, 12, 19, 21, 41, 11, 1, 5, 6]\n",
      "(8)-정렬 결과:  [12, 19, 15, 41, 11, 1, 5, 6, 39, 23, 21, 47, 11, 56, 61, 16]\n",
      "(4)-정렬 결과:  [11, 1, 5, 6, 11, 19, 15, 16, 12, 23, 21, 41, 39, 56, 61, 47]\n",
      "(2)-정렬 결과:  [5, 1, 11, 6, 11, 16, 12, 19, 15, 23, 21, 41, 39, 47, 61, 56]\n",
      "정렬 후: [5, 1, 11, 6, 11, 16, 12, 19, 15, 23, 21, 41, 39, 47, 61, 56]\n"
     ]
    }
   ],
   "source": [
    "def shell_sort(items):\n",
    "    h = len(items)//2\n",
    "    while h > 1:\n",
    "        for i in range(h, len(items)):\n",
    "            j = i\n",
    "            while j >= h and items[j - h] > items[j]:\n",
    "                items[j], items[j - h] = items[j - h], items[j]\n",
    "                j -= h\n",
    "        print(\"({})-정렬 결과: \".format(h), items)\n",
    "        h //= 2\n",
    "\n",
    "items =  [39, 23, 15, 47, 11, 56, 61, 16, 12, 19, 21, 41, 11, 1, 5, 6]\n",
    "print('정렬 전: ', end='')\n",
    "print(items)\n",
    "shell_sort(items)\n",
    "print('정렬 후: ', end='')\n",
    "print(items)"
   ]
  },
  {
   "cell_type": "markdown",
   "metadata": {},
   "source": [
    "힙 정렬: 힙 사이즈가 1일 때까지 반복 {루트 노드와 마지막 노드 교환 → 힙 사이즈 1 감소 → downheap}, **O(NlogN)**\n",
    "- 입력에 민감 X\n",
    "- 추가 메모리 공간 필요 X\n",
    "    - 추가 메모리 공간 사용시: min 힙(루트: 최소값) → extract_min(루트 삭제 및 반환) → 새로운 파이썬 리스트에 추가\n",
    "- 입력 사이즈 큰 경우 별로\n",
    "- 오름차순 정렬: MAX 힙\n",
    "- 내림차순 정렬: MIN 힙"
   ]
  },
  {
   "cell_type": "code",
   "execution_count": 5,
   "metadata": {},
   "outputs": [
    {
     "name": "stdout",
     "output_type": "stream",
     "text": [
      "정렬 전: [39, 23, 15, 47, 11, 56, 61, 12, 19, 21, 41]\n",
      "최대힙: [61, 47, 56, 23, 41, 39, 15, 12, 19, 21, 11]\n",
      "정렬 후: [11, 12, 15, 19, 21, 23, 39, 41, 47, 56, 61]\n"
     ]
    }
   ],
   "source": [
    "# O(N)\n",
    "def heapify(items):\n",
    "    hsize = len(items)\n",
    "    for i in range(hsize//2 - 1, -1, -1):\n",
    "        downheap(i, hsize)\n",
    "\n",
    "# O(logN)\n",
    "def downheap(i, size):\n",
    "    while 2*i + 1 < size:\n",
    "        k = 2*i + 1\n",
    "        if k < size-1 and items[k] < items[k+1]:\n",
    "            k += 1\n",
    "        if items[i] >= items[k]:\n",
    "            break\n",
    "        items[i], items[k] = items[k], items[i]\n",
    "        i = k\n",
    "\n",
    "# O(NlogN)\n",
    "def heap_sort(items):\n",
    "    N = len(items)\n",
    "    for i in range(N):\n",
    "        items[0], items[N-1] = items[N-1], items[0]\n",
    "        downheap(0, N-2)\n",
    "        N -= 1\n",
    "\n",
    "items = [39, 23, 15, 47, 11, 56, 61, 12, 19, 21, 41]\n",
    "print(\"정렬 전:\", items)\n",
    "heapify(items) # make heap\n",
    "print(\"최대힙:\", items)\n",
    "heap_sort(items)\n",
    "print(\"정렬 후:\", items)"
   ]
  },
  {
   "cell_type": "markdown",
   "metadata": {},
   "source": [
    "분할 정복: 분할 + 정복 + (통합)\n",
    "- 트리 재귀/다운업(DFS)\n",
    "- 하향식(top-down)\n",
    "- 최적의 하위 구조 특성\n",
    "- 분할: 부분 문제들로 분할\n",
    "- 정복: 부분 문제들의 부분 해를 찾기\n",
    "- (통합): 부분 해들을 통합"
   ]
  },
  {
   "cell_type": "markdown",
   "metadata": {},
   "source": [
    "합병 정렬, **O(NlogN)**\n",
    "- 입력에 민감 X\n",
    "- 추가 메모리 공간 필요 O\n",
    "- 2개의 같은 크기의 부분 문제로 재귀적으로 분할\n",
    "- 분할: L[low,mid], L[mid+1,high]\n",
    "- 정복: 각각 사이즈가 1이 될 때까지 재귀적으로 분할\n",
    "- **통합**: 서브 리스트를 합병(정렬)"
   ]
  },
  {
   "cell_type": "code",
   "execution_count": 7,
   "metadata": {},
   "outputs": [
    {
     "name": "stdout",
     "output_type": "stream",
     "text": [
      "정렬 전: [54, 88, 77, 26, 93, 17, 49, 10, 17, 77, 11, 31, 22, 44, 17, 20]\n",
      "정렬 후: [10, 11, 17, 17, 17, 20, 22, 26, 31, 44, 49, 54, 77, 77, 88, 93]\n"
     ]
    }
   ],
   "source": [
    "def merge(lst, temp, low, mid, high):\n",
    "    i = low\n",
    "    j = mid + 1\n",
    "    for k in range(low, high + 1):\n",
    "        if i > mid:\n",
    "            temp[k] = lst[j]\n",
    "            j += 1\n",
    "        elif j > high:\n",
    "            temp[k] = lst[i]\n",
    "            i += 1\n",
    "        elif lst[i] > lst[j]:\n",
    "            temp[k] = lst[j]\n",
    "            j += 1\n",
    "        else:\n",
    "            temp[k] = lst[i]\n",
    "            i += 1\n",
    "    for k in range(low, high + 1):\n",
    "        lst[k] = temp[k]\n",
    "\n",
    "def merge_sort(lst, temp, low, high):\n",
    "    if high <= low: \n",
    "        return None\n",
    "    mid = low + (high-low)//2 # divide\n",
    "    merge_sort(lst, temp, low, mid) # conquer\n",
    "    merge_sort(lst, temp, mid+1, high) # conquer\n",
    "    merge(lst, temp, low, mid, high) # merge\n",
    "\n",
    "lst = [54, 88, 77, 26, 93, 17, 49, 10, 17, 77, 11, 31, 22, 44, 17, 20]\n",
    "temp = [None] * len(lst)\n",
    "print('정렬 전:', lst)\n",
    "merge_sort(lst, temp, 0, len(lst) - 1)\n",
    "print('정렬 후:', lst)"
   ]
  },
  {
   "cell_type": "markdown",
   "metadata": {},
   "source": [
    "퀵 정렬, **O(NlogN)(최선,평균) ~ O(N<sup>2</sup>)(최악)**\n",
    "- 입력에 민감 O\n",
    "- 추가 메모리 공간 필요 X\n",
    "- 피벗을 기준으로 2개의 다른 크기의(피벗보다 작은, 피벗보다 큰) 부분 문제로 재귀적으로 분할\n",
    "- **분할**: 피벗을 기준으로 분할\n",
    "- 정복: 각각 재귀적으로 정렬\n",
    "- 통합: X"
   ]
  },
  {
   "cell_type": "code",
   "execution_count": 33,
   "metadata": {},
   "outputs": [
    {
     "name": "stdout",
     "output_type": "stream",
     "text": [
      "정렬 전: [5, 6, 8, 9, 3, 4, 7, 1, 2]\n",
      "2 [5, 3, 4, 1, 2, 8, 7, 9, 6]\n",
      "1 [5, 3, 4, 1, 2, 8, 7, 9, 6]\n",
      "4 [5, 3, 4, 1, 2, 8, 7, 9, 6]\n",
      "3 [5, 3, 4, 1, 2, 8, 7, 9, 6]\n",
      "6 [5, 3, 4, 1, 2, 8, 7, 6, 9]\n",
      "7 [5, 3, 4, 1, 2, 8, 7, 6, 9]\n",
      "정렬 후: [5, 3, 4, 1, 2, 8, 7, 6, 9]\n"
     ]
    }
   ],
   "source": [
    "###\n",
    "lst = [5, 6, 8, 9, 3, 4, 7, 1, 2]\n",
    "\n",
    "def partition(lst, low, high):\n",
    "    x = lst[low] # pivot: high\n",
    "    i = low       \n",
    "    for j in range(low, high): # smaller than pivot | i | bigger than pivot\n",
    "        if lst[j] <= x: # if j is smaller than pivot\n",
    "            lst[i], lst[j] = lst[j], lst[i] # exchange i, j\n",
    "            i += 1\n",
    "    lst[i], lst[high] = lst[high], lst[i]  # exchange i, pivot  # smaller than pivot(unsorted) | pivot | bigger than pivot(unsorted)\n",
    "    print(lst[i], lst)     \n",
    "    return i  \n",
    "\n",
    "def qsort(lst, low, high):\n",
    "    if low < high:\n",
    "        pi = partition(lst, low, high) # pi: pivot\n",
    "        qsort(lst, low, pi - 1) \n",
    "        qsort(lst, pi + 1, high)\n",
    "\n",
    "print('정렬 전:', lst)\n",
    "qsort(lst, 0, len(lst) - 1)\n",
    "print('정렬 후:', lst)"
   ]
  },
  {
   "cell_type": "code",
   "execution_count": 5,
   "metadata": {},
   "outputs": [
    {
     "name": "stdout",
     "output_type": "stream",
     "text": [
      "정렬 전: [10, 80, 30, 90, 40, 50, 70, 60]\n",
      "정렬 후: [10, 30, 40, 50, 60, 70, 80, 90]\n"
     ]
    }
   ],
   "source": [
    "def partition(lst, low, high):\n",
    "    x = lst[high] # pivot: high\n",
    "    i = low       \n",
    "    for j in range(low, high): # smaller than pivot | i | bigger than pivot\n",
    "        if lst[j] <= x: # if j is smaller than pivot\n",
    "            lst[i], lst[j] = lst[j], lst[i] # exchange i, j\n",
    "            i += 1\n",
    "    lst[i], lst[high] = lst[high], lst[i]  # exchange i, pivot  # smaller than pivot(unsorted) | pivot | bigger than pivot(unsorted)\n",
    "    return i  \n",
    "\n",
    "def qsort(lst, low, high):\n",
    "    if low < high:\n",
    "        pi = partition(lst, low, high) # pi: pivot\n",
    "        qsort(lst, low, pi - 1)       \n",
    "        qsort(lst, pi + 1, high)      \n",
    "\n",
    "lst = [10, 80, 30, 90, 40, 50, 70, 60]\n",
    "print('정렬 전:', lst)\n",
    "qsort(lst, 0, len(lst) - 1)\n",
    "print('정렬 후:', lst)"
   ]
  },
  {
   "cell_type": "code",
   "execution_count": 38,
   "metadata": {},
   "outputs": [
    {
     "name": "stdout",
     "output_type": "stream",
     "text": [
      "4\n"
     ]
    }
   ],
   "source": [
    "def get_min(a, b):\n",
    "    return a if a < b else b\n",
    "\n",
    "def coin_change(demo, n):\n",
    "    k = len(demo)\n",
    "    cache = [[0] * (n + 1) for i in range(0, k)]\n",
    "    \n",
    "    for i in range(0, k):\n",
    "        cache[i][0] = 0\n",
    "    for j in range(1, n + 1):\n",
    "        cache[0][j] = j\n",
    "\n",
    "    for i in range(1, k):\n",
    "        for j in range(1, n + 1):\n",
    "            if demo[i] > j:\n",
    "                cache[i][j] = cache[i - 1][j]\n",
    "            else:\n",
    "                cache[i][j] = get_min(cache[i - 1][j], 1 + cache[i][j - demo[i]])\n",
    "    print(cache[2][9])\n",
    "    return None\n",
    "\n",
    "demo = [1, 5, 6, 8]\n",
    "n = 11\n",
    "coin_change(demo, n)"
   ]
  },
  {
   "cell_type": "code",
   "execution_count": null,
   "metadata": {},
   "outputs": [],
   "source": []
  }
 ],
 "metadata": {
  "kernelspec": {
   "display_name": "Python 3",
   "language": "python",
   "name": "python3"
  },
  "language_info": {
   "codemirror_mode": {
    "name": "ipython",
    "version": 3
   },
   "file_extension": ".py",
   "mimetype": "text/x-python",
   "name": "python",
   "nbconvert_exporter": "python",
   "pygments_lexer": "ipython3",
   "version": "3.11.4"
  }
 },
 "nbformat": 4,
 "nbformat_minor": 2
}
